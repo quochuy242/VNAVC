{
 "cells": [
  {
   "cell_type": "code",
   "execution_count": 1,
   "metadata": {},
   "outputs": [
    {
     "data": {
      "text/plain": [
       "'/home/quochuy/project/tts-data-pipeline'"
      ]
     },
     "execution_count": 1,
     "metadata": {},
     "output_type": "execute_result"
    }
   ],
   "source": [
    "import pandas as pd\n",
    "import os\n",
    "\n",
    "os.chdir(\"../\")\n",
    "os.getcwd()"
   ]
  },
  {
   "cell_type": "code",
   "execution_count": 2,
   "metadata": {},
   "outputs": [],
   "source": [
    "from tts_data_pipeline import constants"
   ]
  },
  {
   "cell_type": "code",
   "execution_count": 3,
   "metadata": {},
   "outputs": [
    {
     "data": {
      "text/html": [
       "<div>\n",
       "<style scoped>\n",
       "    .dataframe tbody tr th:only-of-type {\n",
       "        vertical-align: middle;\n",
       "    }\n",
       "\n",
       "    .dataframe tbody tr th {\n",
       "        vertical-align: top;\n",
       "    }\n",
       "\n",
       "    .dataframe thead th {\n",
       "        text-align: right;\n",
       "    }\n",
       "</style>\n",
       "<table border=\"1\" class=\"dataframe\">\n",
       "  <thead>\n",
       "    <tr style=\"text-align: right;\">\n",
       "      <th></th>\n",
       "      <th>Unnamed: 0</th>\n",
       "      <th>index</th>\n",
       "      <th>audio_url</th>\n",
       "      <th>text_url</th>\n",
       "      <th>title</th>\n",
       "      <th>author</th>\n",
       "      <th>duration</th>\n",
       "      <th>narrator</th>\n",
       "      <th>duration_hour</th>\n",
       "    </tr>\n",
       "  </thead>\n",
       "  <tbody>\n",
       "    <tr>\n",
       "      <th>0</th>\n",
       "      <td>0</td>\n",
       "      <td>0</td>\n",
       "      <td>https://sachnoiviet.net/sach-noi/phan-thanh-gi...</td>\n",
       "      <td>https://thuviensachpdf.com/phan-thanh-gian-noi...</td>\n",
       "      <td>phan-thanh-gian-noi-dau-tram-nam</td>\n",
       "      <td>Hoang Lai Giang</td>\n",
       "      <td>6:41:20</td>\n",
       "      <td>Nguyễn Nam Dương</td>\n",
       "      <td>6.6889</td>\n",
       "    </tr>\n",
       "    <tr>\n",
       "      <th>1</th>\n",
       "      <td>1</td>\n",
       "      <td>1</td>\n",
       "      <td>https://sachnoiviet.net/sach-noi/vo-thuong</td>\n",
       "      <td>https://thuviensachpdf.com/vo-thuong</td>\n",
       "      <td>vo-thuong</td>\n",
       "      <td>Nguyễn Bảo Trung</td>\n",
       "      <td>3:09:05</td>\n",
       "      <td>Bình Nguyên</td>\n",
       "      <td>3.1514</td>\n",
       "    </tr>\n",
       "    <tr>\n",
       "      <th>2</th>\n",
       "      <td>2</td>\n",
       "      <td>2</td>\n",
       "      <td>https://sachnoiviet.net/sach-noi/yeu</td>\n",
       "      <td>https://thuviensachpdf.com/yeu</td>\n",
       "      <td>yeu</td>\n",
       "      <td>Chu Tử</td>\n",
       "      <td>9:31:58</td>\n",
       "      <td>Trái Táo</td>\n",
       "      <td>9.5328</td>\n",
       "    </tr>\n",
       "    <tr>\n",
       "      <th>3</th>\n",
       "      <td>3</td>\n",
       "      <td>3</td>\n",
       "      <td>https://sachnoiviet.net/sach-noi/xin-doi-ton-t...</td>\n",
       "      <td>https://thuviensachpdf.com/xin-doi-ton-thuong-...</td>\n",
       "      <td>xin-doi-ton-thuong-lay-truong-thanh</td>\n",
       "      <td>Lý Ái Linh</td>\n",
       "      <td>5:23:40</td>\n",
       "      <td>NaN</td>\n",
       "      <td>5.3944</td>\n",
       "    </tr>\n",
       "    <tr>\n",
       "      <th>4</th>\n",
       "      <td>4</td>\n",
       "      <td>4</td>\n",
       "      <td>https://sachnoiviet.net/sach-noi/nguoi-vo-hien</td>\n",
       "      <td>https://thuviensachpdf.com/nguoi-vo-hien</td>\n",
       "      <td>nguoi-vo-hien</td>\n",
       "      <td>Thới Xuyên</td>\n",
       "      <td>2:20:04</td>\n",
       "      <td>Hồng Trinh</td>\n",
       "      <td>2.3344</td>\n",
       "    </tr>\n",
       "  </tbody>\n",
       "</table>\n",
       "</div>"
      ],
      "text/plain": [
       "   Unnamed: 0  index                                          audio_url  \\\n",
       "0           0      0  https://sachnoiviet.net/sach-noi/phan-thanh-gi...   \n",
       "1           1      1         https://sachnoiviet.net/sach-noi/vo-thuong   \n",
       "2           2      2               https://sachnoiviet.net/sach-noi/yeu   \n",
       "3           3      3  https://sachnoiviet.net/sach-noi/xin-doi-ton-t...   \n",
       "4           4      4     https://sachnoiviet.net/sach-noi/nguoi-vo-hien   \n",
       "\n",
       "                                            text_url  \\\n",
       "0  https://thuviensachpdf.com/phan-thanh-gian-noi...   \n",
       "1               https://thuviensachpdf.com/vo-thuong   \n",
       "2                     https://thuviensachpdf.com/yeu   \n",
       "3  https://thuviensachpdf.com/xin-doi-ton-thuong-...   \n",
       "4           https://thuviensachpdf.com/nguoi-vo-hien   \n",
       "\n",
       "                                 title            author duration  \\\n",
       "0     phan-thanh-gian-noi-dau-tram-nam   Hoang Lai Giang  6:41:20   \n",
       "1                            vo-thuong  Nguyễn Bảo Trung  3:09:05   \n",
       "2                                  yeu            Chu Tử  9:31:58   \n",
       "3  xin-doi-ton-thuong-lay-truong-thanh        Lý Ái Linh  5:23:40   \n",
       "4                        nguoi-vo-hien        Thới Xuyên  2:20:04   \n",
       "\n",
       "           narrator  duration_hour  \n",
       "0  Nguyễn Nam Dương         6.6889  \n",
       "1       Bình Nguyên         3.1514  \n",
       "2          Trái Táo         9.5328  \n",
       "3               NaN         5.3944  \n",
       "4        Hồng Trinh         2.3344  "
      ]
     },
     "execution_count": 3,
     "metadata": {},
     "output_type": "execute_result"
    }
   ],
   "source": [
    "df = pd.read_csv(constants.METADATA_BOOK_PATH)\n",
    "df.head()"
   ]
  },
  {
   "cell_type": "code",
   "execution_count": 4,
   "metadata": {},
   "outputs": [
    {
     "data": {
      "text/plain": [
       "Unnamed: 0         0\n",
       "index              0\n",
       "audio_url          0\n",
       "text_url           0\n",
       "title              0\n",
       "author             0\n",
       "duration           0\n",
       "narrator         131\n",
       "duration_hour      0\n",
       "dtype: int64"
      ]
     },
     "execution_count": 4,
     "metadata": {},
     "output_type": "execute_result"
    }
   ],
   "source": [
    "df.isnull().sum()"
   ]
  },
  {
   "cell_type": "code",
   "execution_count": 9,
   "metadata": {},
   "outputs": [
    {
     "data": {
      "text/html": [
       "<div>\n",
       "<style scoped>\n",
       "    .dataframe tbody tr th:only-of-type {\n",
       "        vertical-align: middle;\n",
       "    }\n",
       "\n",
       "    .dataframe tbody tr th {\n",
       "        vertical-align: top;\n",
       "    }\n",
       "\n",
       "    .dataframe thead th {\n",
       "        text-align: right;\n",
       "    }\n",
       "</style>\n",
       "<table border=\"1\" class=\"dataframe\">\n",
       "  <thead>\n",
       "    <tr style=\"text-align: right;\">\n",
       "      <th></th>\n",
       "      <th>Unnamed: 0</th>\n",
       "      <th>index</th>\n",
       "      <th>audio_url</th>\n",
       "      <th>text_url</th>\n",
       "      <th>title</th>\n",
       "      <th>author</th>\n",
       "      <th>duration</th>\n",
       "      <th>narrator</th>\n",
       "      <th>duration_hour</th>\n",
       "    </tr>\n",
       "  </thead>\n",
       "  <tbody>\n",
       "    <tr>\n",
       "      <th>0</th>\n",
       "      <td>0</td>\n",
       "      <td>0</td>\n",
       "      <td>https://sachnoiviet.net/sach-noi/phan-thanh-gi...</td>\n",
       "      <td>https://thuviensachpdf.com/phan-thanh-gian-noi...</td>\n",
       "      <td>phan-thanh-gian-noi-dau-tram-nam</td>\n",
       "      <td>Hoang Lai Giang</td>\n",
       "      <td>6:41:20</td>\n",
       "      <td>Nguyễn Nam Dương</td>\n",
       "      <td>6.6889</td>\n",
       "    </tr>\n",
       "  </tbody>\n",
       "</table>\n",
       "</div>"
      ],
      "text/plain": [
       "   Unnamed: 0  index                                          audio_url  \\\n",
       "0           0      0  https://sachnoiviet.net/sach-noi/phan-thanh-gi...   \n",
       "\n",
       "                                            text_url  \\\n",
       "0  https://thuviensachpdf.com/phan-thanh-gian-noi...   \n",
       "\n",
       "                              title           author duration  \\\n",
       "0  phan-thanh-gian-noi-dau-tram-nam  Hoang Lai Giang  6:41:20   \n",
       "\n",
       "           narrator  duration_hour  \n",
       "0  Nguyễn Nam Dương         6.6889  "
      ]
     },
     "execution_count": 9,
     "metadata": {},
     "output_type": "execute_result"
    }
   ],
   "source": [
    "mask = pd.Series([True] * len(df))\n",
    "mask &= df[\"narrator\"].str.contains(\"Nguyễn Nam Dương\")\n",
    "mask &= df['author'].str.contains(\"Hoang Lai Giang\")\n",
    "\n",
    "filter_df = df[mask]\n",
    "filter_df"
   ]
  }
 ],
 "metadata": {
  "kernelspec": {
   "display_name": ".venv",
   "language": "python",
   "name": "python3"
  },
  "language_info": {
   "codemirror_mode": {
    "name": "ipython",
    "version": 3
   },
   "file_extension": ".py",
   "mimetype": "text/x-python",
   "name": "python",
   "nbconvert_exporter": "python",
   "pygments_lexer": "ipython3",
   "version": "3.11.11"
  }
 },
 "nbformat": 4,
 "nbformat_minor": 2
}
