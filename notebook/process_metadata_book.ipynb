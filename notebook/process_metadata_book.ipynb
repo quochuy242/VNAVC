{
 "cells": [
  {
   "cell_type": "code",
   "execution_count": 1,
   "metadata": {},
   "outputs": [],
   "source": [
    "import pandas as pd\n",
    "from tts_data_pipeline import constants\n",
    "from tts_data_pipeline.crawler import metadata"
   ]
  },
  {
   "cell_type": "code",
   "execution_count": null,
   "metadata": {},
   "outputs": [
    {
     "data": {
      "text/plain": [
       "'/home/quochuy/project/tts-data-pipeline'"
      ]
     },
     "execution_count": 2,
     "metadata": {},
     "output_type": "execute_result"
    }
   ],
   "source": [
    "import os\n",
    "\n",
    "os.chdir(\"../\")\n",
    "os.getcwd()"
   ]
  },
  {
   "cell_type": "code",
   "execution_count": 3,
   "metadata": {},
   "outputs": [
    {
     "name": "stdout",
     "output_type": "stream",
     "text": [
      "Metadata processing complete. 1335 files processed. Saved to ./data/metadata/metadata_book.csv\n"
     ]
    }
   ],
   "source": [
    "metadata.convert_metadata_to_csv()"
   ]
  },
  {
   "cell_type": "code",
   "execution_count": 4,
   "metadata": {},
   "outputs": [],
   "source": [
    "df = pd.read_csv(\"./data/metadata/metadata_book.csv\")"
   ]
  },
  {
   "cell_type": "code",
   "execution_count": 5,
   "metadata": {},
   "outputs": [
    {
     "data": {
      "text/html": [
       "<div>\n",
       "<style scoped>\n",
       "    .dataframe tbody tr th:only-of-type {\n",
       "        vertical-align: middle;\n",
       "    }\n",
       "\n",
       "    .dataframe tbody tr th {\n",
       "        vertical-align: top;\n",
       "    }\n",
       "\n",
       "    .dataframe thead th {\n",
       "        text-align: right;\n",
       "    }\n",
       "</style>\n",
       "<table border=\"1\" class=\"dataframe\">\n",
       "  <thead>\n",
       "    <tr style=\"text-align: right;\">\n",
       "      <th></th>\n",
       "      <th>Unnamed: 0</th>\n",
       "      <th>audio_url</th>\n",
       "      <th>text_url</th>\n",
       "      <th>title</th>\n",
       "      <th>author</th>\n",
       "      <th>duration</th>\n",
       "      <th>narrator</th>\n",
       "      <th>duration_hour</th>\n",
       "    </tr>\n",
       "  </thead>\n",
       "  <tbody>\n",
       "    <tr>\n",
       "      <th>0</th>\n",
       "      <td>0</td>\n",
       "      <td>https://sachnoiviet.net/sach-noi/phan-thanh-gi...</td>\n",
       "      <td>https://thuviensachpdf.com/phan-thanh-gian-noi...</td>\n",
       "      <td>phan-thanh-gian-noi-dau-tram-nam</td>\n",
       "      <td>Hoang Lai Giang</td>\n",
       "      <td>6:41:20</td>\n",
       "      <td>Nguyễn Nam Dương</td>\n",
       "      <td>6.6889</td>\n",
       "    </tr>\n",
       "    <tr>\n",
       "      <th>1</th>\n",
       "      <td>1</td>\n",
       "      <td>https://sachnoiviet.net/sach-noi/vo-thuong</td>\n",
       "      <td>https://thuviensachpdf.com/vo-thuong</td>\n",
       "      <td>vo-thuong</td>\n",
       "      <td>Nguyễn Bảo Trung</td>\n",
       "      <td>3:09:05</td>\n",
       "      <td>Bình Nguyên</td>\n",
       "      <td>3.1514</td>\n",
       "    </tr>\n",
       "    <tr>\n",
       "      <th>2</th>\n",
       "      <td>2</td>\n",
       "      <td>https://sachnoiviet.net/sach-noi/yeu</td>\n",
       "      <td>https://thuviensachpdf.com/yeu</td>\n",
       "      <td>yeu</td>\n",
       "      <td>Chu Tử</td>\n",
       "      <td>9:31:58</td>\n",
       "      <td>Trái Táo</td>\n",
       "      <td>9.5328</td>\n",
       "    </tr>\n",
       "    <tr>\n",
       "      <th>3</th>\n",
       "      <td>3</td>\n",
       "      <td>https://sachnoiviet.net/sach-noi/xin-doi-ton-t...</td>\n",
       "      <td>https://thuviensachpdf.com/xin-doi-ton-thuong-...</td>\n",
       "      <td>xin-doi-ton-thuong-lay-truong-thanh</td>\n",
       "      <td>Lý Ái Linh</td>\n",
       "      <td>5:23:40</td>\n",
       "      <td>NaN</td>\n",
       "      <td>5.3944</td>\n",
       "    </tr>\n",
       "    <tr>\n",
       "      <th>4</th>\n",
       "      <td>4</td>\n",
       "      <td>https://sachnoiviet.net/sach-noi/nguoi-vo-hien</td>\n",
       "      <td>https://thuviensachpdf.com/nguoi-vo-hien</td>\n",
       "      <td>nguoi-vo-hien</td>\n",
       "      <td>Thới Xuyên</td>\n",
       "      <td>2:20:04</td>\n",
       "      <td>Hồng Trinh</td>\n",
       "      <td>2.3344</td>\n",
       "    </tr>\n",
       "  </tbody>\n",
       "</table>\n",
       "</div>"
      ],
      "text/plain": [
       "   Unnamed: 0                                          audio_url  \\\n",
       "0           0  https://sachnoiviet.net/sach-noi/phan-thanh-gi...   \n",
       "1           1         https://sachnoiviet.net/sach-noi/vo-thuong   \n",
       "2           2               https://sachnoiviet.net/sach-noi/yeu   \n",
       "3           3  https://sachnoiviet.net/sach-noi/xin-doi-ton-t...   \n",
       "4           4     https://sachnoiviet.net/sach-noi/nguoi-vo-hien   \n",
       "\n",
       "                                            text_url  \\\n",
       "0  https://thuviensachpdf.com/phan-thanh-gian-noi...   \n",
       "1               https://thuviensachpdf.com/vo-thuong   \n",
       "2                     https://thuviensachpdf.com/yeu   \n",
       "3  https://thuviensachpdf.com/xin-doi-ton-thuong-...   \n",
       "4           https://thuviensachpdf.com/nguoi-vo-hien   \n",
       "\n",
       "                                 title            author duration  \\\n",
       "0     phan-thanh-gian-noi-dau-tram-nam   Hoang Lai Giang  6:41:20   \n",
       "1                            vo-thuong  Nguyễn Bảo Trung  3:09:05   \n",
       "2                                  yeu            Chu Tử  9:31:58   \n",
       "3  xin-doi-ton-thuong-lay-truong-thanh        Lý Ái Linh  5:23:40   \n",
       "4                        nguoi-vo-hien        Thới Xuyên  2:20:04   \n",
       "\n",
       "           narrator  duration_hour  \n",
       "0  Nguyễn Nam Dương         6.6889  \n",
       "1       Bình Nguyên         3.1514  \n",
       "2          Trái Táo         9.5328  \n",
       "3               NaN         5.3944  \n",
       "4        Hồng Trinh         2.3344  "
      ]
     },
     "execution_count": 5,
     "metadata": {},
     "output_type": "execute_result"
    }
   ],
   "source": [
    "df.head()"
   ]
  },
  {
   "cell_type": "code",
   "execution_count": 8,
   "metadata": {},
   "outputs": [
    {
     "data": {
      "text/html": [
       "<div>\n",
       "<style scoped>\n",
       "    .dataframe tbody tr th:only-of-type {\n",
       "        vertical-align: middle;\n",
       "    }\n",
       "\n",
       "    .dataframe tbody tr th {\n",
       "        vertical-align: top;\n",
       "    }\n",
       "\n",
       "    .dataframe thead th {\n",
       "        text-align: right;\n",
       "    }\n",
       "</style>\n",
       "<table border=\"1\" class=\"dataframe\">\n",
       "  <thead>\n",
       "    <tr style=\"text-align: right;\">\n",
       "      <th></th>\n",
       "      <th>index</th>\n",
       "      <th>audio_url</th>\n",
       "      <th>text_url</th>\n",
       "      <th>title</th>\n",
       "      <th>author</th>\n",
       "      <th>duration</th>\n",
       "      <th>narrator</th>\n",
       "      <th>duration_hour</th>\n",
       "    </tr>\n",
       "  </thead>\n",
       "  <tbody>\n",
       "    <tr>\n",
       "      <th>0</th>\n",
       "      <td>0</td>\n",
       "      <td>https://sachnoiviet.net/sach-noi/phan-thanh-gi...</td>\n",
       "      <td>https://thuviensachpdf.com/phan-thanh-gian-noi...</td>\n",
       "      <td>phan-thanh-gian-noi-dau-tram-nam</td>\n",
       "      <td>Hoang Lai Giang</td>\n",
       "      <td>6:41:20</td>\n",
       "      <td>Nguyễn Nam Dương</td>\n",
       "      <td>6.6889</td>\n",
       "    </tr>\n",
       "    <tr>\n",
       "      <th>1</th>\n",
       "      <td>1</td>\n",
       "      <td>https://sachnoiviet.net/sach-noi/vo-thuong</td>\n",
       "      <td>https://thuviensachpdf.com/vo-thuong</td>\n",
       "      <td>vo-thuong</td>\n",
       "      <td>Nguyễn Bảo Trung</td>\n",
       "      <td>3:09:05</td>\n",
       "      <td>Bình Nguyên</td>\n",
       "      <td>3.1514</td>\n",
       "    </tr>\n",
       "    <tr>\n",
       "      <th>2</th>\n",
       "      <td>2</td>\n",
       "      <td>https://sachnoiviet.net/sach-noi/yeu</td>\n",
       "      <td>https://thuviensachpdf.com/yeu</td>\n",
       "      <td>yeu</td>\n",
       "      <td>Chu Tử</td>\n",
       "      <td>9:31:58</td>\n",
       "      <td>Trái Táo</td>\n",
       "      <td>9.5328</td>\n",
       "    </tr>\n",
       "    <tr>\n",
       "      <th>3</th>\n",
       "      <td>3</td>\n",
       "      <td>https://sachnoiviet.net/sach-noi/xin-doi-ton-t...</td>\n",
       "      <td>https://thuviensachpdf.com/xin-doi-ton-thuong-...</td>\n",
       "      <td>xin-doi-ton-thuong-lay-truong-thanh</td>\n",
       "      <td>Lý Ái Linh</td>\n",
       "      <td>5:23:40</td>\n",
       "      <td>NaN</td>\n",
       "      <td>5.3944</td>\n",
       "    </tr>\n",
       "    <tr>\n",
       "      <th>4</th>\n",
       "      <td>4</td>\n",
       "      <td>https://sachnoiviet.net/sach-noi/nguoi-vo-hien</td>\n",
       "      <td>https://thuviensachpdf.com/nguoi-vo-hien</td>\n",
       "      <td>nguoi-vo-hien</td>\n",
       "      <td>Thới Xuyên</td>\n",
       "      <td>2:20:04</td>\n",
       "      <td>Hồng Trinh</td>\n",
       "      <td>2.3344</td>\n",
       "    </tr>\n",
       "  </tbody>\n",
       "</table>\n",
       "</div>"
      ],
      "text/plain": [
       "   index                                          audio_url  \\\n",
       "0      0  https://sachnoiviet.net/sach-noi/phan-thanh-gi...   \n",
       "1      1         https://sachnoiviet.net/sach-noi/vo-thuong   \n",
       "2      2               https://sachnoiviet.net/sach-noi/yeu   \n",
       "3      3  https://sachnoiviet.net/sach-noi/xin-doi-ton-t...   \n",
       "4      4     https://sachnoiviet.net/sach-noi/nguoi-vo-hien   \n",
       "\n",
       "                                            text_url  \\\n",
       "0  https://thuviensachpdf.com/phan-thanh-gian-noi...   \n",
       "1               https://thuviensachpdf.com/vo-thuong   \n",
       "2                     https://thuviensachpdf.com/yeu   \n",
       "3  https://thuviensachpdf.com/xin-doi-ton-thuong-...   \n",
       "4           https://thuviensachpdf.com/nguoi-vo-hien   \n",
       "\n",
       "                                 title            author duration  \\\n",
       "0     phan-thanh-gian-noi-dau-tram-nam   Hoang Lai Giang  6:41:20   \n",
       "1                            vo-thuong  Nguyễn Bảo Trung  3:09:05   \n",
       "2                                  yeu            Chu Tử  9:31:58   \n",
       "3  xin-doi-ton-thuong-lay-truong-thanh        Lý Ái Linh  5:23:40   \n",
       "4                        nguoi-vo-hien        Thới Xuyên  2:20:04   \n",
       "\n",
       "           narrator  duration_hour  \n",
       "0  Nguyễn Nam Dương         6.6889  \n",
       "1       Bình Nguyên         3.1514  \n",
       "2          Trái Táo         9.5328  \n",
       "3               NaN         5.3944  \n",
       "4        Hồng Trinh         2.3344  "
      ]
     },
     "execution_count": 8,
     "metadata": {},
     "output_type": "execute_result"
    }
   ],
   "source": [
    "df = df.rename(columns={\"Unnamed: 0\": \"index\"})\n",
    "df.head()"
   ]
  },
  {
   "cell_type": "code",
   "execution_count": 9,
   "metadata": {},
   "outputs": [
    {
     "name": "stdout",
     "output_type": "stream",
     "text": [
      "index              0\n",
      "audio_url          0\n",
      "text_url           0\n",
      "title              0\n",
      "author             0\n",
      "duration           0\n",
      "narrator         131\n",
      "duration_hour      6\n",
      "dtype: int64\n"
     ]
    }
   ],
   "source": [
    "print(df.isnull().sum())"
   ]
  },
  {
   "cell_type": "code",
   "execution_count": null,
   "metadata": {},
   "outputs": [
    {
     "data": {
      "text/html": [
       "<div>\n",
       "<style scoped>\n",
       "    .dataframe tbody tr th:only-of-type {\n",
       "        vertical-align: middle;\n",
       "    }\n",
       "\n",
       "    .dataframe tbody tr th {\n",
       "        vertical-align: top;\n",
       "    }\n",
       "\n",
       "    .dataframe thead th {\n",
       "        text-align: right;\n",
       "    }\n",
       "</style>\n",
       "<table border=\"1\" class=\"dataframe\">\n",
       "  <thead>\n",
       "    <tr style=\"text-align: right;\">\n",
       "      <th></th>\n",
       "      <th>index</th>\n",
       "      <th>audio_url</th>\n",
       "      <th>text_url</th>\n",
       "      <th>title</th>\n",
       "      <th>author</th>\n",
       "      <th>duration</th>\n",
       "      <th>narrator</th>\n",
       "      <th>duration_hour</th>\n",
       "    </tr>\n",
       "  </thead>\n",
       "  <tbody>\n",
       "    <tr>\n",
       "      <th>217</th>\n",
       "      <td>217</td>\n",
       "      <td>https://sachnoiviet.net/sach-noi/binh-minh-va-...</td>\n",
       "      <td>https://thuviensachpdf.com/binh-minh-va-hoang-hon</td>\n",
       "      <td>binh-minh-va-hoang-hon</td>\n",
       "      <td>Tân Di Ổ</td>\n",
       "      <td>4:05;10</td>\n",
       "      <td>NaN</td>\n",
       "      <td>NaN</td>\n",
       "    </tr>\n",
       "    <tr>\n",
       "      <th>252</th>\n",
       "      <td>252</td>\n",
       "      <td>https://sachnoiviet.net/sach-noi/con-se-lam-duoc</td>\n",
       "      <td>https://thuviensachpdf.com/con-se-lam-duoc</td>\n",
       "      <td>con-se-lam-duoc</td>\n",
       "      <td>Donna M. Genetit</td>\n",
       "      <td>2:01;40</td>\n",
       "      <td>Ái Hòa</td>\n",
       "      <td>NaN</td>\n",
       "    </tr>\n",
       "    <tr>\n",
       "      <th>882</th>\n",
       "      <td>882</td>\n",
       "      <td>https://sachnoiviet.net/sach-noi/con-duong-may...</td>\n",
       "      <td>https://thuviensachpdf.com/con-duong-may-trang</td>\n",
       "      <td>con-duong-may-trang</td>\n",
       "      <td>Osho</td>\n",
       "      <td>Đang Cập Nhật</td>\n",
       "      <td>Giang Nguyễn</td>\n",
       "      <td>NaN</td>\n",
       "    </tr>\n",
       "    <tr>\n",
       "      <th>929</th>\n",
       "      <td>929</td>\n",
       "      <td>https://sachnoiviet.net/sach-noi/tinh-yeu-tro-lai</td>\n",
       "      <td>https://thuviensachpdf.com/tinh-yeu-tro-lai</td>\n",
       "      <td>tinh-yeu-tro-lai</td>\n",
       "      <td>Rachel Gibson</td>\n",
       "      <td>25:21:20:</td>\n",
       "      <td>Việt Hùng</td>\n",
       "      <td>NaN</td>\n",
       "    </tr>\n",
       "    <tr>\n",
       "      <th>943</th>\n",
       "      <td>943</td>\n",
       "      <td>https://sachnoiviet.net/sach-noi/tren-sa-mac-v...</td>\n",
       "      <td>https://thuviensachpdf.com/tren-sa-mac-va-tron...</td>\n",
       "      <td>tren-sa-mac-va-trong-rung-tham</td>\n",
       "      <td>Henryk Sienkiewicz</td>\n",
       "      <td>13;23;03</td>\n",
       "      <td>Trí An</td>\n",
       "      <td>NaN</td>\n",
       "    </tr>\n",
       "    <tr>\n",
       "      <th>1243</th>\n",
       "      <td>1244</td>\n",
       "      <td>https://sachnoiviet.net/sach-noi/cang-doc-lap-...</td>\n",
       "      <td>https://thuviensachpdf.com/cang-doc-lap-cang-c...</td>\n",
       "      <td>cang-doc-lap-cang-cao-quy</td>\n",
       "      <td>Vãn Tình</td>\n",
       "      <td>8:14::52</td>\n",
       "      <td>Mộc</td>\n",
       "      <td>NaN</td>\n",
       "    </tr>\n",
       "  </tbody>\n",
       "</table>\n",
       "</div>"
      ],
      "text/plain": [
       "      index                                          audio_url  \\\n",
       "217     217  https://sachnoiviet.net/sach-noi/binh-minh-va-...   \n",
       "252     252   https://sachnoiviet.net/sach-noi/con-se-lam-duoc   \n",
       "882     882  https://sachnoiviet.net/sach-noi/con-duong-may...   \n",
       "929     929  https://sachnoiviet.net/sach-noi/tinh-yeu-tro-lai   \n",
       "943     943  https://sachnoiviet.net/sach-noi/tren-sa-mac-v...   \n",
       "1243   1244  https://sachnoiviet.net/sach-noi/cang-doc-lap-...   \n",
       "\n",
       "                                               text_url  \\\n",
       "217   https://thuviensachpdf.com/binh-minh-va-hoang-hon   \n",
       "252          https://thuviensachpdf.com/con-se-lam-duoc   \n",
       "882      https://thuviensachpdf.com/con-duong-may-trang   \n",
       "929         https://thuviensachpdf.com/tinh-yeu-tro-lai   \n",
       "943   https://thuviensachpdf.com/tren-sa-mac-va-tron...   \n",
       "1243  https://thuviensachpdf.com/cang-doc-lap-cang-c...   \n",
       "\n",
       "                               title              author       duration  \\\n",
       "217           binh-minh-va-hoang-hon            Tân Di Ổ        4:05;10   \n",
       "252                  con-se-lam-duoc    Donna M. Genetit        2:01;40   \n",
       "882              con-duong-may-trang                Osho  Đang Cập Nhật   \n",
       "929                 tinh-yeu-tro-lai       Rachel Gibson      25:21:20:   \n",
       "943   tren-sa-mac-va-trong-rung-tham  Henryk Sienkiewicz       13;23;03   \n",
       "1243       cang-doc-lap-cang-cao-quy            Vãn Tình       8:14::52   \n",
       "\n",
       "          narrator  duration_hour  \n",
       "217            NaN            NaN  \n",
       "252         Ái Hòa            NaN  \n",
       "882   Giang Nguyễn            NaN  \n",
       "929      Việt Hùng            NaN  \n",
       "943         Trí An            NaN  \n",
       "1243           Mộc            NaN  "
      ]
     },
     "execution_count": 10,
     "metadata": {},
     "output_type": "execute_result"
    }
   ],
   "source": [
    "df[df[\"duration_hour\"].isnull()]"
   ]
  },
  {
   "cell_type": "code",
   "execution_count": 17,
   "metadata": {},
   "outputs": [],
   "source": [
    "df.loc[\n",
    "    217,\n",
    "    \"duration\",\n",
    "] = \"4:05:10\"\n",
    "df.loc[\n",
    "    252,\n",
    "    \"duration\",\n",
    "] = \"2:01:40\"\n",
    "df.loc[\n",
    "    882,\n",
    "    \"duration\",\n",
    "] = \"1:15:36\"\n",
    "df.loc[\n",
    "    929,\n",
    "    \"duration\",\n",
    "] = \"25:21:20\"\n",
    "df.loc[\n",
    "    943,\n",
    "    \"duration\",\n",
    "] = \"13:23:03\"\n",
    "df.loc[\n",
    "    1243,\n",
    "    \"duration\",\n",
    "] = \"8:14:52\""
   ]
  },
  {
   "cell_type": "code",
   "execution_count": 19,
   "metadata": {},
   "outputs": [
    {
     "data": {
      "text/plain": [
       "217      4:05:10\n",
       "252      2:01:40\n",
       "882      1:15:36\n",
       "929     25:21:20\n",
       "943     13:23:03\n",
       "1243     8:14:52\n",
       "Name: duration, dtype: object"
      ]
     },
     "execution_count": 19,
     "metadata": {},
     "output_type": "execute_result"
    }
   ],
   "source": [
    "df.loc[[217, 252, 882, 929, 943, 1243], \"duration\"]"
   ]
  },
  {
   "cell_type": "code",
   "execution_count": 20,
   "metadata": {},
   "outputs": [],
   "source": [
    "df[\"duration_hour\"] = df[\"duration\"].apply(metadata.convert_duration, unit=\"hour\")"
   ]
  },
  {
   "cell_type": "code",
   "execution_count": 21,
   "metadata": {},
   "outputs": [
    {
     "name": "stdout",
     "output_type": "stream",
     "text": [
      "index              0\n",
      "audio_url          0\n",
      "text_url           0\n",
      "title              0\n",
      "author             0\n",
      "duration           0\n",
      "narrator         131\n",
      "duration_hour      0\n",
      "dtype: int64\n"
     ]
    }
   ],
   "source": [
    "print(df.isnull().sum())"
   ]
  },
  {
   "cell_type": "code",
   "execution_count": 22,
   "metadata": {},
   "outputs": [],
   "source": [
    "df.to_csv(constants.METADATA_BOOK_PATH, index=True)"
   ]
  },
  {
   "cell_type": "code",
   "execution_count": 24,
   "metadata": {},
   "outputs": [
    {
     "data": {
      "text/plain": [
       "np.int64(0)"
      ]
     },
     "execution_count": 24,
     "metadata": {},
     "output_type": "execute_result"
    }
   ],
   "source": [
    "df['audio_url'].str.contains('tvshows').sum()"
   ]
  }
 ],
 "metadata": {
  "kernelspec": {
   "display_name": ".venv",
   "language": "python",
   "name": "python3"
  },
  "language_info": {
   "codemirror_mode": {
    "name": "ipython",
    "version": 3
   },
   "file_extension": ".py",
   "mimetype": "text/x-python",
   "name": "python",
   "nbconvert_exporter": "python",
   "pygments_lexer": "ipython3",
   "version": "3.11.11"
  }
 },
 "nbformat": 4,
 "nbformat_minor": 2
}
