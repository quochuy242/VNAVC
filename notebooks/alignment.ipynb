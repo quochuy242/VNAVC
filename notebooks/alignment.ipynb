{
 "cells": [
  {
   "cell_type": "code",
   "execution_count": null,
   "id": "0d76554a",
   "metadata": {},
   "outputs": [
    {
     "ename": "ModuleNotFoundError",
     "evalue": "No module named 'tts_data_pipeline'",
     "output_type": "error",
     "traceback": [
      "\u001b[0;31m---------------------------------------------------------------------------\u001b[0m",
      "\u001b[0;31mModuleNotFoundError\u001b[0m                       Traceback (most recent call last)",
      "\u001b[0;32m/tmp/ipykernel_94/3167389065.py\u001b[0m in \u001b[0;36m<cell line: 0>\u001b[0;34m()\u001b[0m\n\u001b[1;32m      7\u001b[0m \u001b[0;32mfrom\u001b[0m \u001b[0mtqdm\u001b[0m \u001b[0;32mimport\u001b[0m \u001b[0mtqdm\u001b[0m\u001b[0;34m\u001b[0m\u001b[0;34m\u001b[0m\u001b[0m\n\u001b[1;32m      8\u001b[0m \u001b[0;34m\u001b[0m\u001b[0m\n\u001b[0;32m----> 9\u001b[0;31m \u001b[0;32mfrom\u001b[0m \u001b[0mtts_data_pipeline\u001b[0m \u001b[0;32mimport\u001b[0m \u001b[0mBook\u001b[0m\u001b[0;34m,\u001b[0m \u001b[0mconstants\u001b[0m\u001b[0;34m\u001b[0m\u001b[0;34m\u001b[0m\u001b[0m\n\u001b[0m\u001b[1;32m     10\u001b[0m from tts_data_pipeline.alignment.utils import (\n\u001b[1;32m     11\u001b[0m   \u001b[0mlogger\u001b[0m \u001b[0;32mas\u001b[0m \u001b[0malignment_logger\u001b[0m\u001b[0;34m,\u001b[0m\u001b[0;34m\u001b[0m\u001b[0;34m\u001b[0m\u001b[0m\n",
      "\u001b[0;31mModuleNotFoundError\u001b[0m: No module named 'tts_data_pipeline'"
     ]
    }
   ],
   "source": [
    "import os\n",
    "import shutil\n",
    "import subprocess\n",
    "import sys\n",
    "from pathlib import Path\n",
    "\n",
    "import pandas as pd\n",
    "from tqdm import tqdm\n",
    "\n",
    "from tts_data_pipeline import Book, constants\n",
    "from tts_data_pipeline.alignment.utils import (\n",
    "  book_alignment,\n",
    "  check_dependencies,\n",
    ")\n",
    "from tts_data_pipeline.alignment.utils import (\n",
    "  logger as alignment_logger,\n",
    ")\n",
    "from tts_data_pipeline.crawler.playwright_server import (\n",
    "  ensure_playwright_server_running,\n",
    "  start_playwright_server,\n",
    ")\n",
    "from tts_data_pipeline.crawler.utils import logger as crawler_logger\n",
    "from tts_data_pipeline.pre_processing.audio import logger as audio_logger\n",
    "from tts_data_pipeline.pre_processing.text import logger as text_logger"
   ]
  },
  {
   "cell_type": "code",
   "execution_count": null,
   "id": "7dfae9d9",
   "metadata": {},
   "outputs": [],
   "source": [
    "metadata = pd.read_csv(constants.METADATA_BOOK_PATH)"
   ]
  }
 ],
 "metadata": {
  "kernelspec": {
   "display_name": ".venv",
   "language": "python",
   "name": "python3"
  },
  "language_info": {
   "codemirror_mode": {
    "name": "ipython",
    "version": 3
   },
   "file_extension": ".py",
   "mimetype": "text/x-python",
   "name": "python",
   "nbconvert_exporter": "python",
   "pygments_lexer": "ipython3",
   "version": "3.11.11"
  }
 },
 "nbformat": 4,
 "nbformat_minor": 5
}
