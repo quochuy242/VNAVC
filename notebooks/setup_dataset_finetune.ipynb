{
 "cells": [
  {
   "cell_type": "code",
   "execution_count": 2,
   "id": "6b2949ed",
   "metadata": {},
   "outputs": [],
   "source": [
    "import pandas as pd\n",
    "from pathlib import Path"
   ]
  },
  {
   "cell_type": "code",
   "execution_count": 7,
   "id": "cce368ba",
   "metadata": {},
   "outputs": [],
   "source": [
    "metadata_df = pd.DataFrame({\"file_name\": [], \"transcript\": []})\n",
    "\n",
    "audio_paths = sorted(Path(\"../dataset/an-theo-thue-o-theo-thoi\").glob(\"*.wav\"))\n",
    "text_paths = sorted(Path(\"../dataset/an-theo-thue-o-theo-thoi\").glob(\"*.txt\"))\n",
    "\n",
    "for audio_path, text_path in zip(audio_paths, text_paths):\n",
    "  with open(text_path, \"r\", encoding=\"utf-8\") as f:\n",
    "    transcript = f.read().strip()\n",
    "  metadata_df = pd.concat(\n",
    "    [\n",
    "      metadata_df,\n",
    "      pd.DataFrame([{\"file_name\": audio_path.name, \"transcript\": transcript}]),\n",
    "    ],\n",
    "    ignore_index=True,\n",
    "  )\n",
    "\n",
    "metadata_df.head()\n",
    "metadata_df.to_csv(\"../dataset_v1/metadata.csv\", index=False)"
   ]
  }
 ],
 "metadata": {
  "kernelspec": {
   "display_name": ".venv",
   "language": "python",
   "name": "python3"
  },
  "language_info": {
   "codemirror_mode": {
    "name": "ipython",
    "version": 3
   },
   "file_extension": ".py",
   "mimetype": "text/x-python",
   "name": "python",
   "nbconvert_exporter": "python",
   "pygments_lexer": "ipython3",
   "version": "3.11.11"
  }
 },
 "nbformat": 4,
 "nbformat_minor": 5
}
