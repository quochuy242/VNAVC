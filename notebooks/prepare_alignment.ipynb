{
 "cells": [
  {
   "cell_type": "code",
   "execution_count": 3,
   "id": "f9594780",
   "metadata": {},
   "outputs": [],
   "source": [
    "import pandas as pd\n",
    "\n",
    "metadata_df = pd.read_csv(\"../metadata_book.csv\")"
   ]
  },
  {
   "cell_type": "code",
   "execution_count": 4,
   "id": "90e5c577",
   "metadata": {},
   "outputs": [
    {
     "data": {
      "text/plain": [
       "[{'id': 'd555101e',\n",
       "  'name': 'Quốc Thịnh',\n",
       "  'dialect': None,\n",
       "  'gender': None,\n",
       "  'age': None,\n",
       "  'url': 'https://sachnoiviet.net/giong-doc/quoc-thinh',\n",
       "  'tone': None,\n",
       "  'volume': None,\n",
       "  'speed': None,\n",
       "  'pitch': None},\n",
       " {'id': '3be876b0',\n",
       "  'name': 'Thanh Trúc',\n",
       "  'dialect': None,\n",
       "  'gender': None,\n",
       "  'age': None,\n",
       "  'url': 'https://sachnoiviet.net/giong-doc/thanh-truc',\n",
       "  'tone': None,\n",
       "  'volume': None,\n",
       "  'speed': None,\n",
       "  'pitch': None},\n",
       " {'id': 'f39367de',\n",
       "  'name': 'Trần Ngọc San',\n",
       "  'dialect': None,\n",
       "  'gender': None,\n",
       "  'age': None,\n",
       "  'url': 'https://sachnoiviet.net/giong-doc/tran-ngoc-san',\n",
       "  'tone': None,\n",
       "  'volume': None,\n",
       "  'speed': None,\n",
       "  'pitch': None}]"
      ]
     },
     "execution_count": 4,
     "metadata": {},
     "output_type": "execute_result"
    }
   ],
   "source": [
    "import ast\n",
    "\n",
    "ast.literal_eval(metadata_df.loc[0, \"narrator\"])"
   ]
  },
  {
   "cell_type": "code",
   "execution_count": 5,
   "id": "d91e6a30",
   "metadata": {},
   "outputs": [],
   "source": [
    "metadata_df[\"narrator\"] = metadata_df[\"narrator\"].apply(\n",
    "  lambda x: ast.literal_eval(x) if isinstance(x, str) else x\n",
    ")"
   ]
  },
  {
   "cell_type": "code",
   "execution_count": null,
   "id": "37a145f0",
   "metadata": {},
   "outputs": [],
   "source": [
    "one_narrator_df = metadata_df[\n",
    "  metadata_df[\"narrator\"].apply(lambda x: isinstance(x, dict))\n",
    "]"
   ]
  },
  {
   "cell_type": "code",
   "execution_count": 7,
   "id": "e4d48f35",
   "metadata": {},
   "outputs": [
    {
     "data": {
      "text/html": [
       "<div>\n",
       "<style scoped>\n",
       "    .dataframe tbody tr th:only-of-type {\n",
       "        vertical-align: middle;\n",
       "    }\n",
       "\n",
       "    .dataframe tbody tr th {\n",
       "        vertical-align: top;\n",
       "    }\n",
       "\n",
       "    .dataframe thead th {\n",
       "        text-align: right;\n",
       "    }\n",
       "</style>\n",
       "<table border=\"1\" class=\"dataframe\">\n",
       "  <thead>\n",
       "    <tr style=\"text-align: right;\">\n",
       "      <th></th>\n",
       "      <th>id</th>\n",
       "      <th>name</th>\n",
       "      <th>text_path</th>\n",
       "      <th>audio_path</th>\n",
       "      <th>narrator</th>\n",
       "      <th>duration</th>\n",
       "      <th>author</th>\n",
       "      <th>text_url</th>\n",
       "      <th>audio_url</th>\n",
       "      <th>duration_hour</th>\n",
       "      <th>sample_rate</th>\n",
       "      <th>quality</th>\n",
       "      <th>word_count</th>\n",
       "      <th>num_sentences</th>\n",
       "    </tr>\n",
       "  </thead>\n",
       "  <tbody>\n",
       "    <tr>\n",
       "      <th>1</th>\n",
       "      <td>d509ee13</td>\n",
       "      <td>ivanhoe</td>\n",
       "      <td>NaN</td>\n",
       "      <td>NaN</td>\n",
       "      <td>{'id': '24eefff0', 'name': 'Ngô Hồng', 'dialec...</td>\n",
       "      <td>20.0233</td>\n",
       "      <td>Sir Walter Scott</td>\n",
       "      <td>https://thuviensachpdf.com/ivanhoe</td>\n",
       "      <td>https://sachnoiviet.net/sach-noi/ivanhoe</td>\n",
       "      <td>NaN</td>\n",
       "      <td>NaN</td>\n",
       "      <td>NaN</td>\n",
       "      <td>NaN</td>\n",
       "      <td>NaN</td>\n",
       "    </tr>\n",
       "    <tr>\n",
       "      <th>2</th>\n",
       "      <td>1238a90d</td>\n",
       "      <td>ai-vao-đia-nguc?</td>\n",
       "      <td>NaN</td>\n",
       "      <td>NaN</td>\n",
       "      <td>{'id': 'eae35a7e', 'name': 'Thanh Cúc', 'diale...</td>\n",
       "      <td>3.1058</td>\n",
       "      <td>Nguyên Minh</td>\n",
       "      <td>https://thuviensachpdf.com/ai-vao-dia-nguc</td>\n",
       "      <td>https://sachnoiviet.net/sach-noi/ai-vao-dia-nguc</td>\n",
       "      <td>NaN</td>\n",
       "      <td>NaN</td>\n",
       "      <td>NaN</td>\n",
       "      <td>NaN</td>\n",
       "      <td>NaN</td>\n",
       "    </tr>\n",
       "    <tr>\n",
       "      <th>3</th>\n",
       "      <td>a980dca5</td>\n",
       "      <td>hang-đong-cua-cac-lat-ma</td>\n",
       "      <td>NaN</td>\n",
       "      <td>NaN</td>\n",
       "      <td>{'id': '4109046b', 'name': 'Hướng Dương', 'dia...</td>\n",
       "      <td>9.9728</td>\n",
       "      <td>Lobsang Rampa</td>\n",
       "      <td>https://thuviensachpdf.com/hang-dong-cua-cac-l...</td>\n",
       "      <td>https://sachnoiviet.net/sach-noi/hang-dong-cua...</td>\n",
       "      <td>NaN</td>\n",
       "      <td>NaN</td>\n",
       "      <td>NaN</td>\n",
       "      <td>NaN</td>\n",
       "      <td>NaN</td>\n",
       "    </tr>\n",
       "    <tr>\n",
       "      <th>4</th>\n",
       "      <td>6eb87c9f</td>\n",
       "      <td>loan-mat-nhung</td>\n",
       "      <td>NaN</td>\n",
       "      <td>NaN</td>\n",
       "      <td>{'id': '2c8df802', 'name': 'Hồng Nhung', 'dial...</td>\n",
       "      <td>18.0425</td>\n",
       "      <td>Nguyễn Thụy Long</td>\n",
       "      <td>https://thuviensachpdf.com/loan-mat-nhung</td>\n",
       "      <td>https://sachnoiviet.net/sach-noi/loan-mat-nhung</td>\n",
       "      <td>NaN</td>\n",
       "      <td>NaN</td>\n",
       "      <td>NaN</td>\n",
       "      <td>NaN</td>\n",
       "      <td>NaN</td>\n",
       "    </tr>\n",
       "    <tr>\n",
       "      <th>5</th>\n",
       "      <td>a860b1b9</td>\n",
       "      <td>con-mua-đinh-menh</td>\n",
       "      <td>NaN</td>\n",
       "      <td>NaN</td>\n",
       "      <td>{'id': '72a3af44', 'name': 'Thanh Mai', 'diale...</td>\n",
       "      <td>15.1964</td>\n",
       "      <td>Thanhthanh</td>\n",
       "      <td>https://thuviensachpdf.com/con-mua-dinh-menh</td>\n",
       "      <td>https://sachnoiviet.net/sach-noi/con-mua-dinh-...</td>\n",
       "      <td>NaN</td>\n",
       "      <td>NaN</td>\n",
       "      <td>NaN</td>\n",
       "      <td>NaN</td>\n",
       "      <td>NaN</td>\n",
       "    </tr>\n",
       "  </tbody>\n",
       "</table>\n",
       "</div>"
      ],
      "text/plain": [
       "         id                      name  text_path  audio_path  \\\n",
       "1  d509ee13                   ivanhoe        NaN         NaN   \n",
       "2  1238a90d          ai-vao-đia-nguc?        NaN         NaN   \n",
       "3  a980dca5  hang-đong-cua-cac-lat-ma        NaN         NaN   \n",
       "4  6eb87c9f            loan-mat-nhung        NaN         NaN   \n",
       "5  a860b1b9         con-mua-đinh-menh        NaN         NaN   \n",
       "\n",
       "                                            narrator  duration  \\\n",
       "1  {'id': '24eefff0', 'name': 'Ngô Hồng', 'dialec...   20.0233   \n",
       "2  {'id': 'eae35a7e', 'name': 'Thanh Cúc', 'diale...    3.1058   \n",
       "3  {'id': '4109046b', 'name': 'Hướng Dương', 'dia...    9.9728   \n",
       "4  {'id': '2c8df802', 'name': 'Hồng Nhung', 'dial...   18.0425   \n",
       "5  {'id': '72a3af44', 'name': 'Thanh Mai', 'diale...   15.1964   \n",
       "\n",
       "             author                                           text_url  \\\n",
       "1  Sir Walter Scott                 https://thuviensachpdf.com/ivanhoe   \n",
       "2       Nguyên Minh         https://thuviensachpdf.com/ai-vao-dia-nguc   \n",
       "3     Lobsang Rampa  https://thuviensachpdf.com/hang-dong-cua-cac-l...   \n",
       "4  Nguyễn Thụy Long          https://thuviensachpdf.com/loan-mat-nhung   \n",
       "5        Thanhthanh       https://thuviensachpdf.com/con-mua-dinh-menh   \n",
       "\n",
       "                                           audio_url  duration_hour  \\\n",
       "1           https://sachnoiviet.net/sach-noi/ivanhoe            NaN   \n",
       "2   https://sachnoiviet.net/sach-noi/ai-vao-dia-nguc            NaN   \n",
       "3  https://sachnoiviet.net/sach-noi/hang-dong-cua...            NaN   \n",
       "4    https://sachnoiviet.net/sach-noi/loan-mat-nhung            NaN   \n",
       "5  https://sachnoiviet.net/sach-noi/con-mua-dinh-...            NaN   \n",
       "\n",
       "   sample_rate  quality  word_count  num_sentences  \n",
       "1          NaN      NaN         NaN            NaN  \n",
       "2          NaN      NaN         NaN            NaN  \n",
       "3          NaN      NaN         NaN            NaN  \n",
       "4          NaN      NaN         NaN            NaN  \n",
       "5          NaN      NaN         NaN            NaN  "
      ]
     },
     "execution_count": 7,
     "metadata": {},
     "output_type": "execute_result"
    }
   ],
   "source": [
    "one_narrator_df.head()"
   ]
  },
  {
   "cell_type": "code",
   "execution_count": 8,
   "id": "25e9f1ef",
   "metadata": {},
   "outputs": [
    {
     "data": {
      "text/plain": [
       "count    1218.000000\n",
       "mean        9.298383\n",
       "std        16.892583\n",
       "min         0.379200\n",
       "25%         4.057100\n",
       "50%         6.332350\n",
       "75%        10.003025\n",
       "max       427.459700\n",
       "Name: duration, dtype: float64"
      ]
     },
     "execution_count": 8,
     "metadata": {},
     "output_type": "execute_result"
    }
   ],
   "source": [
    "one_narrator_df[\"duration\"].describe()"
   ]
  },
  {
   "cell_type": "code",
   "execution_count": null,
   "id": "184a4423",
   "metadata": {},
   "outputs": [
    {
     "name": "stdout",
     "output_type": "stream",
     "text": [
      "167 1219\n"
     ]
    }
   ],
   "source": [
    "print(len(one_narrator_df[one_narrator_df[\"duration\"] < 3]), len(one_narrator_df))"
   ]
  },
  {
   "cell_type": "code",
   "execution_count": 26,
   "id": "c1360bbc",
   "metadata": {},
   "outputs": [],
   "source": [
    "one_nar_less_3_df = one_narrator_df[one_narrator_df[\"duration\"] < 3]\n",
    "one_nar_less_3_df.to_csv(\"../data/metadata/one_narrator_less_3_hour.csv\", index=False)\n",
    "one_nar_larger_3_df = one_narrator_df[one_narrator_df[\"duration\"] >= 3]\n",
    "one_nar_larger_3_df.to_csv(\"../data/metadata/one_narrator_larger_3_hour.csv\", index=False)\n",
    "\n",
    "with open(\"../data/metadata/one_narrator_less_3_hour.txt\", \"w\") as f:\n",
    "  for index, row in one_nar_less_3_df.iterrows():\n",
    "    f.write(f\"{row['name']}\\n\")\n",
    "    \n",
    "with open(\"../data/metadata/one_narrator_larger_3_hour.txt\", \"w\") as f:\n",
    "  for index, row in one_nar_larger_3_df.iterrows():\n",
    "    f.write(f\"{row['name']}\\n\")"
   ]
  },
  {
   "cell_type": "code",
   "execution_count": null,
   "id": "d24efd86",
   "metadata": {},
   "outputs": [
    {
     "data": {
      "text/plain": [
       "id                                                        eb8c72ba\n",
       "name                                          bo-cau-khong-đua-thu\n",
       "text_path                                                      NaN\n",
       "audio_path                                                     NaN\n",
       "narrator         {'id': 'bbc5c296', 'name': 'Hoàng Anh', 'diale...\n",
       "duration                                                    2.9806\n",
       "author                                             Nguyễn Nhật Ánh\n",
       "text_url           https://thuviensachpdf.com/bo-cau-khong-dua-thu\n",
       "audio_url        https://sachnoiviet.net/sach-noi/bo-cau-khong-...\n",
       "duration_hour                                                  NaN\n",
       "sample_rate                                                    NaN\n",
       "quality                                                        NaN\n",
       "word_count                                                     NaN\n",
       "num_sentences                                                  NaN\n",
       "Name: 513, dtype: object"
      ]
     },
     "execution_count": 21,
     "metadata": {},
     "output_type": "execute_result"
    }
   ],
   "source": [
    "one_nar_less_3_df.loc[one_nar_less_3_df[\"duration\"].idxmax()]"
   ]
  }
 ],
 "metadata": {
  "kernelspec": {
   "display_name": ".venv",
   "language": "python",
   "name": "python3"
  },
  "language_info": {
   "codemirror_mode": {
    "name": "ipython",
    "version": 3
   },
   "file_extension": ".py",
   "mimetype": "text/x-python",
   "name": "python",
   "nbconvert_exporter": "python",
   "pygments_lexer": "ipython3",
   "version": "3.11.11"
  }
 },
 "nbformat": 4,
 "nbformat_minor": 5
}
