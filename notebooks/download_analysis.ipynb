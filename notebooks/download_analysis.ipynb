{
 "cells": [
  {
   "cell_type": "markdown",
   "id": "251f3454",
   "metadata": {},
   "source": [
    "📊 Final Results:\n",
    "\n",
    "---\n",
    "\n",
    "📚 Total books processed: 388\n",
    "\n",
    "✅ Successful downloads: 336\n",
    "\n",
    "❌ Failed downloads: 52\n",
    "\n",
    "📈 Success rate: 86.6%\n"
   ]
  },
  {
   "cell_type": "code",
   "execution_count": 21,
   "id": "e9b6acea",
   "metadata": {},
   "outputs": [],
   "source": [
    "from pathlib import Path\n",
    "\n",
    "audio_save_path = Path(\"../data/audio/raw/\")\n",
    "text_save_path = Path(\"../data/text/pdf/\")"
   ]
  },
  {
   "cell_type": "code",
   "execution_count": 22,
   "id": "8c089f39",
   "metadata": {},
   "outputs": [
    {
     "data": {
      "text/plain": [
       "(281,\n",
       " 326,\n",
       " [PosixPath('../data/text/pdf/cay-bach-buon.pdf'),\n",
       "  PosixPath('../data/text/pdf/thuyet-phuc-bang-tam-ly.pdf'),\n",
       "  PosixPath('../data/text/pdf/nho.pdf'),\n",
       "  PosixPath('../data/text/pdf/dong-tien-hanh-phuc.pdf'),\n",
       "  PosixPath('../data/text/pdf/mac-ke-no-lam-toi-di.pdf')],\n",
       " [PosixPath('../data/audio/raw/bo-cau-khong-dua-thu'),\n",
       "  PosixPath('../data/audio/raw/nghe-thuat-hieu-thau-tam-ly-nguoi-khac'),\n",
       "  PosixPath('../data/audio/raw/thay-thai-do-doi-cuoc-doi'),\n",
       "  PosixPath('../data/audio/raw/ban-co-nam-cho-ngoi'),\n",
       "  PosixPath('../data/audio/raw/bi-quyet-cua-thanh-cong')])"
      ]
     },
     "execution_count": 22,
     "metadata": {},
     "output_type": "execute_result"
    }
   ],
   "source": [
    "audio_dirs = [d for d in audio_save_path.iterdir() if d.is_dir()]\n",
    "text_files = text_save_path.glob(\"**/*.pdf\")\n",
    "\n",
    "text_files = [f for f in text_files if f.is_file()]\n",
    "audio_dirs = [d for d in audio_dirs if d.is_dir()]\n",
    "\n",
    "len(text_files), len(audio_dirs), text_files[:5], audio_dirs[:5]"
   ]
  },
  {
   "cell_type": "code",
   "execution_count": 23,
   "id": "ee7cc44d",
   "metadata": {},
   "outputs": [
    {
     "name": "stdout",
     "output_type": "stream",
     "text": [
      "Directory: ../data/audio/raw, Size: 73204.68 MB\n",
      "Directory: ../data/text/pdf, Size: 718.57 MB\n"
     ]
    },
    {
     "data": {
      "text/plain": [
       "(76760669361, 753478283)"
      ]
     },
     "execution_count": 23,
     "metadata": {},
     "output_type": "execute_result"
    }
   ],
   "source": [
    "def get_dir_size(path: Path, print_size: bool = False) -> int:\n",
    "  size = sum(f.stat().st_size for f in path.rglob(\"*\") if f.is_file())\n",
    "  if print_size:\n",
    "    print(f\"Directory: {path}, Size: {size / (1024 * 1024):.2f} MB\")\n",
    "  return size\n",
    "\n",
    "\n",
    "(\n",
    "  get_dir_size(audio_save_path, print_size=True),\n",
    "  get_dir_size(text_save_path, print_size=True),\n",
    ")"
   ]
  },
  {
   "cell_type": "code",
   "execution_count": 24,
   "id": "53d02d8d",
   "metadata": {},
   "outputs": [
    {
     "name": "stdout",
     "output_type": "stream",
     "text": [
      "Matched pairs: 281\n"
     ]
    }
   ],
   "source": [
    "def matching_audio_text(text_files, audio_dirs, remove_empty_dirs=False):\n",
    "  matched_pairs = []\n",
    "  text_files = sorted(text_files, key=lambda f: f.stem)\n",
    "  audio_dirs = sorted(audio_dirs, key=lambda d: d.stem)\n",
    "\n",
    "  i_text, i_audio = 0, 0\n",
    "  while i_text < len(text_files) and i_audio < len(audio_dirs):\n",
    "    text_file = text_files[i_text]\n",
    "    audio_dir = audio_dirs[i_audio]\n",
    "\n",
    "    if text_file.stem == audio_dir.stem:\n",
    "      if get_dir_size(audio_dir) == 0:\n",
    "        if remove_empty_dirs:\n",
    "          print(f\"Removing empty directory: {audio_dir}\")\n",
    "          # Remove the text file if it matches an empty audio directory\n",
    "          text_file.unlink(missing_ok=True)\n",
    "          audio_dir.rmdir(missing_ok=True)  # Remove the empty audio directory\n",
    "        else:\n",
    "          print(f\"Empty directory found: {audio_dir}, move it to unqualified directory\")\n",
    "          text_file.rename(text_save_path.parent / \"unqualified\" / text_file.name)\n",
    "          audio_dir.rename(audio_save_path.parent / \"unqualified\" / audio_dir.name)\n",
    "      else:\n",
    "        matched_pairs.append((text_file, audio_dir))\n",
    "      i_text += 1\n",
    "      i_audio += 1\n",
    "    elif text_file.stem < audio_dir.stem:\n",
    "      if text_file.exists():\n",
    "        text_file.rename(text_save_path.parent / \"unqualified\" / text_file.name)\n",
    "      i_text += 1\n",
    "    else:\n",
    "      if audio_dir.exists():\n",
    "        audio_dir.rename(audio_save_path.parent / \"unqualified\" / audio_dir.name)\n",
    "      i_audio += 1\n",
    "\n",
    "  print(f\"Matched pairs: {len(matched_pairs)}\")\n",
    "  return matched_pairs\n",
    "\n",
    "\n",
    "matched_pairs = matching_audio_text(text_files, audio_dirs, remove_empty_dirs=False)"
   ]
  },
  {
   "cell_type": "code",
   "execution_count": 25,
   "id": "79561fd1",
   "metadata": {},
   "outputs": [
    {
     "data": {
      "text/plain": [
       "[(PosixPath('../data/text/pdf/10-bai-hoc-tren-chiec-khan-an.pdf'),\n",
       "  PosixPath('../data/audio/raw/10-bai-hoc-tren-chiec-khan-an')),\n",
       " (PosixPath('../data/text/pdf/10-bi-quyet-thanh-cong-cua-nhung-dien-gia-mc-tai-nang-nhat-the-gioi.pdf'),\n",
       "  PosixPath('../data/audio/raw/10-bi-quyet-thanh-cong-cua-nhung-dien-gia-mc-tai-nang-nhat-the-gioi')),\n",
       " (PosixPath('../data/text/pdf/10-nghich-ly-cuoc-song.pdf'),\n",
       "  PosixPath('../data/audio/raw/10-nghich-ly-cuoc-song')),\n",
       " (PosixPath('../data/text/pdf/10-quy-luat-cuoc-song.pdf'),\n",
       "  PosixPath('../data/audio/raw/10-quy-luat-cuoc-song')),\n",
       " (PosixPath('../data/text/pdf/100-y-tuong-ban-hang-hay-nhat-moi-thoi-dai.pdf'),\n",
       "  PosixPath('../data/audio/raw/100-y-tuong-ban-hang-hay-nhat-moi-thoi-dai'))]"
      ]
     },
     "execution_count": 25,
     "metadata": {},
     "output_type": "execute_result"
    }
   ],
   "source": [
    "matched_pairs[:5]"
   ]
  },
  {
   "cell_type": "code",
   "execution_count": 26,
   "id": "c9e91e30",
   "metadata": {},
   "outputs": [],
   "source": [
    "import pandas as pd\n",
    "from typing import List, Tuple\n",
    "from pathlib import Path\n",
    "from tts_data_pipeline import Book"
   ]
  },
  {
   "cell_type": "code",
   "execution_count": 27,
   "id": "b98adbab",
   "metadata": {},
   "outputs": [],
   "source": [
    "def update_metadata(\n",
    "  old_df: pd.DataFrame,\n",
    "  matched_pairs: List[Tuple[Path, Path]],\n",
    "  name_new_df: str = \"after_download_metadata_version2\",\n",
    "  save_json: bool = True,\n",
    "  save_csv: bool = True,\n",
    ") -> pd.DataFrame:\n",
    "  \"\"\"\n",
    "  Update metadata for matched text/audio pairs with optimized performance.\n",
    "\n",
    "  Args:\n",
    "      old_df: Original metadata DataFrame\n",
    "      matched_pairs: List of (text_file, audio_dir) tuples\n",
    "      name_new_df: Name for output CSV file\n",
    "      save_json: Whether to save individual JSON files\n",
    "      save_csv: Whether to save consolidated CSV\n",
    "\n",
    "  Returns:\n",
    "      Updated DataFrame with new metadata\n",
    "  \"\"\"\n",
    "  name_to_row = {row[\"name\"]: row for _, row in old_df.iterrows()}\n",
    "  updated_records = []\n",
    "  missing_names = []\n",
    "\n",
    "  # Create output directory if saving JSON files\n",
    "  if save_json:\n",
    "    json_output_dir = Path(\"../data/metadata/book\")\n",
    "    json_output_dir.mkdir(parents=True, exist_ok=True)\n",
    "\n",
    "  for text_file, audio_dir in matched_pairs:\n",
    "    name = text_file.stem\n",
    "\n",
    "    if name not in name_to_row:\n",
    "      missing_names.append(name)\n",
    "      continue\n",
    "\n",
    "    row_dict = name_to_row[name]\n",
    "    book = Book.from_dict(row_dict)\n",
    "\n",
    "    # Update paths and sizes\n",
    "    book.update_paths(\n",
    "      audio_path=audio_dir,\n",
    "      text_path=text_file,\n",
    "    )\n",
    "    book.update_size(\n",
    "      audio_size=get_dir_size(audio_dir),\n",
    "      text_size=text_file.stat().st_size,\n",
    "    )\n",
    "\n",
    "    # Save JSON if requested\n",
    "    if save_json:\n",
    "      json_path = json_output_dir / f\"{name}.json\"\n",
    "      book.save_json(path=json_path)\n",
    "\n",
    "    # Collect record for batch DataFrame creation\n",
    "    updated_records.append(book.to_dict())\n",
    "\n",
    "  # Report missing names at once\n",
    "  if missing_names:\n",
    "    print(\n",
    "      f\"Warning: No metadata found for {len(missing_names)} items: {missing_names[:5]}\"\n",
    "    )\n",
    "    if len(missing_names) > 5:\n",
    "      print(f\"... and {len(missing_names) - 5} more\")\n",
    "\n",
    "  # Create DataFrame in one operation instead of repeated concatenation\n",
    "  new_df = pd.DataFrame(updated_records, columns=old_df.columns)\n",
    "\n",
    "  # Save CSV if requested\n",
    "  if save_csv:\n",
    "    csv_output_dir = Path(\"../data/metadata\")\n",
    "    csv_output_dir.mkdir(parents=True, exist_ok=True)\n",
    "    csv_path = csv_output_dir / f\"{name_new_df}.csv\"\n",
    "    new_df.to_csv(csv_path, index=False)\n",
    "\n",
    "  return new_df"
   ]
  },
  {
   "cell_type": "code",
   "execution_count": 28,
   "id": "ac0c1516",
   "metadata": {},
   "outputs": [],
   "source": [
    "old_metadata_df = pd.read_csv(\n",
    "  \"../data/metadata/able_download_less_10_hour_metadata.csv\"\n",
    ")\n",
    "# old_metadata_df.head()"
   ]
  },
  {
   "cell_type": "code",
   "execution_count": 29,
   "id": "187936f9",
   "metadata": {},
   "outputs": [
    {
     "data": {
      "text/html": [
       "<div>\n",
       "<style scoped>\n",
       "    .dataframe tbody tr th:only-of-type {\n",
       "        vertical-align: middle;\n",
       "    }\n",
       "\n",
       "    .dataframe tbody tr th {\n",
       "        vertical-align: top;\n",
       "    }\n",
       "\n",
       "    .dataframe thead th {\n",
       "        text-align: right;\n",
       "    }\n",
       "</style>\n",
       "<table border=\"1\" class=\"dataframe\">\n",
       "  <thead>\n",
       "    <tr style=\"text-align: right;\">\n",
       "      <th></th>\n",
       "      <th>id</th>\n",
       "      <th>name</th>\n",
       "      <th>text_path</th>\n",
       "      <th>audio_path</th>\n",
       "      <th>narrator</th>\n",
       "      <th>duration</th>\n",
       "      <th>author</th>\n",
       "      <th>text_url</th>\n",
       "      <th>audio_url</th>\n",
       "      <th>alignment_path</th>\n",
       "      <th>text_download_url</th>\n",
       "      <th>audio_download_url</th>\n",
       "      <th>sample_rate</th>\n",
       "      <th>quality</th>\n",
       "      <th>word_count</th>\n",
       "      <th>num_sentences</th>\n",
       "      <th>audio_size</th>\n",
       "      <th>text_size</th>\n",
       "    </tr>\n",
       "  </thead>\n",
       "  <tbody>\n",
       "    <tr>\n",
       "      <th>0</th>\n",
       "      <td>a00985dd</td>\n",
       "      <td>10-bai-hoc-tren-chiec-khan-an</td>\n",
       "      <td>../data/text/pdf/10-bai-hoc-tren-chiec-khan-an...</td>\n",
       "      <td>../data/audio/raw/10-bai-hoc-tren-chiec-khan-an</td>\n",
       "      <td>{'id': '5af6cbeb', 'name': 'Trần Huỳnh Phương ...</td>\n",
       "      <td>2.5039</td>\n",
       "      <td>Don Failla</td>\n",
       "      <td>['https://thuviensachpdf.com/10-bai-hoc-tren-c...</td>\n",
       "      <td>https://sachnoiviet.net/sach-noi/10-bai-hoc-tr...</td>\n",
       "      <td>nan</td>\n",
       "      <td>https://cloud.thuviensachpdf.com/pdf/vi/10-bai...</td>\n",
       "      <td>['https://archive.org/download/10-bai-hoc-tren...</td>\n",
       "      <td>NaN</td>\n",
       "      <td>NaN</td>\n",
       "      <td>NaN</td>\n",
       "      <td>NaN</td>\n",
       "      <td>144734808</td>\n",
       "      <td>347556</td>\n",
       "    </tr>\n",
       "    <tr>\n",
       "      <th>1</th>\n",
       "      <td>2c0c221e</td>\n",
       "      <td>10-bi-quyet-thanh-cong-cua-nhung-dien-gia-mc-t...</td>\n",
       "      <td>../data/text/pdf/10-bi-quyet-thanh-cong-cua-nh...</td>\n",
       "      <td>../data/audio/raw/10-bi-quyet-thanh-cong-cua-n...</td>\n",
       "      <td>[{'id': '047c61b1', 'name': 'Ái Hòa', 'dialect...</td>\n",
       "      <td>4.2244</td>\n",
       "      <td>Carmine Gallo</td>\n",
       "      <td>['https://thuviensachpdf.com/10-bi-quyet-thanh...</td>\n",
       "      <td>https://sachnoiviet.net/sach-noi/10-bi-quyet-t...</td>\n",
       "      <td>nan</td>\n",
       "      <td>https://cloud.thuviensachpdf.com/pdf/vi/10-bi-...</td>\n",
       "      <td>['https://archive.org/download/10-bi-02/10-bi-...</td>\n",
       "      <td>NaN</td>\n",
       "      <td>NaN</td>\n",
       "      <td>NaN</td>\n",
       "      <td>NaN</td>\n",
       "      <td>121662956</td>\n",
       "      <td>1017767</td>\n",
       "    </tr>\n",
       "    <tr>\n",
       "      <th>2</th>\n",
       "      <td>7685d9c3</td>\n",
       "      <td>10-nghich-ly-cuoc-song</td>\n",
       "      <td>../data/text/pdf/10-nghich-ly-cuoc-song.pdf</td>\n",
       "      <td>../data/audio/raw/10-nghich-ly-cuoc-song</td>\n",
       "      <td>[{'id': '2b4c5c3b', 'name': 'Ái Hòa', 'dialect...</td>\n",
       "      <td>3.2611</td>\n",
       "      <td>Kent M. Keith Ph. D.</td>\n",
       "      <td>['https://thuviensachpdf.com/10-nghich-ly-cuoc...</td>\n",
       "      <td>https://sachnoiviet.net/sach-noi/10-nghich-ly-...</td>\n",
       "      <td>nan</td>\n",
       "      <td>https://cloud.thuviensachpdf.com/pdf/vi/10-ngh...</td>\n",
       "      <td>['https://archive.org/download/truyenngan_2019...</td>\n",
       "      <td>NaN</td>\n",
       "      <td>NaN</td>\n",
       "      <td>NaN</td>\n",
       "      <td>NaN</td>\n",
       "      <td>89579482</td>\n",
       "      <td>308308</td>\n",
       "    </tr>\n",
       "    <tr>\n",
       "      <th>3</th>\n",
       "      <td>97c03f2e</td>\n",
       "      <td>10-quy-luat-cuoc-song</td>\n",
       "      <td>../data/text/pdf/10-quy-luat-cuoc-song.pdf</td>\n",
       "      <td>../data/audio/raw/10-quy-luat-cuoc-song</td>\n",
       "      <td>{'id': '6fedc83f', 'name': 'Lê Trang', 'dialec...</td>\n",
       "      <td>2.4194</td>\n",
       "      <td>Dan Sullivan</td>\n",
       "      <td>['https://thuviensachpdf.com/10-quy-luat-cuoc-...</td>\n",
       "      <td>https://sachnoiviet.net/sach-noi/10-quy-luat-c...</td>\n",
       "      <td>nan</td>\n",
       "      <td>https://cloud.thuviensachpdf.com/pdf/vi/10-quy...</td>\n",
       "      <td>['https://archive.org/download/10-quy-07/10-qu...</td>\n",
       "      <td>NaN</td>\n",
       "      <td>NaN</td>\n",
       "      <td>NaN</td>\n",
       "      <td>NaN</td>\n",
       "      <td>70404707</td>\n",
       "      <td>784216</td>\n",
       "    </tr>\n",
       "    <tr>\n",
       "      <th>4</th>\n",
       "      <td>9beeb483</td>\n",
       "      <td>100-y-tuong-ban-hang-hay-nhat-moi-thoi-dai</td>\n",
       "      <td>../data/text/pdf/100-y-tuong-ban-hang-hay-nhat...</td>\n",
       "      <td>../data/audio/raw/100-y-tuong-ban-hang-hay-nha...</td>\n",
       "      <td>{'id': '5286f13d', 'name': 'Bà Già Đọc Sách', ...</td>\n",
       "      <td>4.1975</td>\n",
       "      <td>Ken Langdon</td>\n",
       "      <td>['https://thuviensachpdf.com/100-y-tuong-ban-h...</td>\n",
       "      <td>https://sachnoiviet.net/sach-noi/100-y-tuong-b...</td>\n",
       "      <td>nan</td>\n",
       "      <td>https://cloud.thuviensachpdf.com/pdf/vi/100-y-...</td>\n",
       "      <td>['https://archive.org/download/100-y-1/100-y-1...</td>\n",
       "      <td>NaN</td>\n",
       "      <td>NaN</td>\n",
       "      <td>NaN</td>\n",
       "      <td>NaN</td>\n",
       "      <td>241784365</td>\n",
       "      <td>1121551</td>\n",
       "    </tr>\n",
       "  </tbody>\n",
       "</table>\n",
       "</div>"
      ],
      "text/plain": [
       "         id                                               name  \\\n",
       "0  a00985dd                      10-bai-hoc-tren-chiec-khan-an   \n",
       "1  2c0c221e  10-bi-quyet-thanh-cong-cua-nhung-dien-gia-mc-t...   \n",
       "2  7685d9c3                             10-nghich-ly-cuoc-song   \n",
       "3  97c03f2e                              10-quy-luat-cuoc-song   \n",
       "4  9beeb483         100-y-tuong-ban-hang-hay-nhat-moi-thoi-dai   \n",
       "\n",
       "                                           text_path  \\\n",
       "0  ../data/text/pdf/10-bai-hoc-tren-chiec-khan-an...   \n",
       "1  ../data/text/pdf/10-bi-quyet-thanh-cong-cua-nh...   \n",
       "2        ../data/text/pdf/10-nghich-ly-cuoc-song.pdf   \n",
       "3         ../data/text/pdf/10-quy-luat-cuoc-song.pdf   \n",
       "4  ../data/text/pdf/100-y-tuong-ban-hang-hay-nhat...   \n",
       "\n",
       "                                          audio_path  \\\n",
       "0    ../data/audio/raw/10-bai-hoc-tren-chiec-khan-an   \n",
       "1  ../data/audio/raw/10-bi-quyet-thanh-cong-cua-n...   \n",
       "2           ../data/audio/raw/10-nghich-ly-cuoc-song   \n",
       "3            ../data/audio/raw/10-quy-luat-cuoc-song   \n",
       "4  ../data/audio/raw/100-y-tuong-ban-hang-hay-nha...   \n",
       "\n",
       "                                            narrator  duration  \\\n",
       "0  {'id': '5af6cbeb', 'name': 'Trần Huỳnh Phương ...    2.5039   \n",
       "1  [{'id': '047c61b1', 'name': 'Ái Hòa', 'dialect...    4.2244   \n",
       "2  [{'id': '2b4c5c3b', 'name': 'Ái Hòa', 'dialect...    3.2611   \n",
       "3  {'id': '6fedc83f', 'name': 'Lê Trang', 'dialec...    2.4194   \n",
       "4  {'id': '5286f13d', 'name': 'Bà Già Đọc Sách', ...    4.1975   \n",
       "\n",
       "                 author                                           text_url  \\\n",
       "0            Don Failla  ['https://thuviensachpdf.com/10-bai-hoc-tren-c...   \n",
       "1         Carmine Gallo  ['https://thuviensachpdf.com/10-bi-quyet-thanh...   \n",
       "2  Kent M. Keith Ph. D.  ['https://thuviensachpdf.com/10-nghich-ly-cuoc...   \n",
       "3          Dan Sullivan  ['https://thuviensachpdf.com/10-quy-luat-cuoc-...   \n",
       "4           Ken Langdon  ['https://thuviensachpdf.com/100-y-tuong-ban-h...   \n",
       "\n",
       "                                           audio_url alignment_path  \\\n",
       "0  https://sachnoiviet.net/sach-noi/10-bai-hoc-tr...            nan   \n",
       "1  https://sachnoiviet.net/sach-noi/10-bi-quyet-t...            nan   \n",
       "2  https://sachnoiviet.net/sach-noi/10-nghich-ly-...            nan   \n",
       "3  https://sachnoiviet.net/sach-noi/10-quy-luat-c...            nan   \n",
       "4  https://sachnoiviet.net/sach-noi/100-y-tuong-b...            nan   \n",
       "\n",
       "                                   text_download_url  \\\n",
       "0  https://cloud.thuviensachpdf.com/pdf/vi/10-bai...   \n",
       "1  https://cloud.thuviensachpdf.com/pdf/vi/10-bi-...   \n",
       "2  https://cloud.thuviensachpdf.com/pdf/vi/10-ngh...   \n",
       "3  https://cloud.thuviensachpdf.com/pdf/vi/10-quy...   \n",
       "4  https://cloud.thuviensachpdf.com/pdf/vi/100-y-...   \n",
       "\n",
       "                                  audio_download_url  sample_rate  quality  \\\n",
       "0  ['https://archive.org/download/10-bai-hoc-tren...          NaN      NaN   \n",
       "1  ['https://archive.org/download/10-bi-02/10-bi-...          NaN      NaN   \n",
       "2  ['https://archive.org/download/truyenngan_2019...          NaN      NaN   \n",
       "3  ['https://archive.org/download/10-quy-07/10-qu...          NaN      NaN   \n",
       "4  ['https://archive.org/download/100-y-1/100-y-1...          NaN      NaN   \n",
       "\n",
       "   word_count  num_sentences  audio_size  text_size  \n",
       "0         NaN            NaN   144734808     347556  \n",
       "1         NaN            NaN   121662956    1017767  \n",
       "2         NaN            NaN    89579482     308308  \n",
       "3         NaN            NaN    70404707     784216  \n",
       "4         NaN            NaN   241784365    1121551  "
      ]
     },
     "execution_count": 29,
     "metadata": {},
     "output_type": "execute_result"
    }
   ],
   "source": [
    "after_download_metadata_df = update_metadata(\n",
    "  old_metadata_df, matched_pairs, save_json=False\n",
    ")\n",
    "after_download_metadata_df.head()"
   ]
  },
  {
   "cell_type": "code",
   "execution_count": 30,
   "id": "ca9e6b63",
   "metadata": {},
   "outputs": [
    {
     "name": "stdout",
     "output_type": "stream",
     "text": [
      "Mismatch in audio files for 100-y-tuong-tiep-thi-tuyet-hay: 7 URLs vs 4 files\n",
      "Mismatch in audio files for ba-chua-hon: 13 URLs vs 10 files\n",
      "Mismatch in audio files for bay-buoc-toi-mua-he: 6 URLs vs 1 files\n",
      "Mismatch in audio files for can-bang-than-tam: 6 URLs vs 5 files\n",
      "Mismatch in audio files for chua-tau-kim-quy: 15 URLs vs 14 files\n",
      "Mismatch in audio files for chuyen-co-tich-danh-cho-nguoi-lon: 7 URLs vs 6 files\n",
      "Mismatch in audio files for lich-su-khan-hoang-mien-nam: 15 URLs vs 14 files\n",
      "Mismatch in audio files for ngon-den-khong-tat: 6 URLs vs 3 files\n",
      "Mismatch in audio files for nha-gia-kim: 8 URLs vs 4 files\n",
      "Mismatch in audio files for nho: 7 URLs vs 6 files\n",
      "Mismatch in audio files for nhung-chang-trai-xau-tinh: 4 URLs vs 3 files\n",
      "Mismatch in audio files for suong-khoi-que-nha: 7 URLs vs 6 files\n",
      "Mismatch in audio files for totto-chan-ben-cua-so: 4 URLs vs 1 files\n",
      "Length of metadata before filtering: 281\n",
      "Length of metadata after filtering: 268\n"
     ]
    }
   ],
   "source": [
    "import ast\n",
    "\n",
    "not_enough_part_book_name = []\n",
    "for book in after_download_metadata_df.itertuples():\n",
    "  audio_download_urls = ast.literal_eval(book.audio_download_url)\n",
    "  audio_path = Path(book.audio_path)\n",
    "  text_path = Path(book.text_path)\n",
    "\n",
    "  if not audio_path.exists():\n",
    "    print(f\"Audio path does not exist: {audio_path}\")\n",
    "  if not text_path.exists():\n",
    "    print(f\"Text path does not exist: {text_path}\")\n",
    "\n",
    "  if len(audio_download_urls) != len(list(audio_path.glob(\"*.*\"))):\n",
    "    print(\n",
    "      f\"Mismatch in audio files for {book.name}: {len(audio_download_urls)} URLs vs {len(list(audio_path.glob('*.*')))} files\"\n",
    "    )\n",
    "    not_enough_part_book_name.append(book.name)\n",
    "    audio_path.rename(audio_path.parent.parent / \"unqualified\" / audio_path.name)\n",
    "    text_path.rename(text_path.parent.parent / \"unqualified\" / text_path.name)\n",
    "\n",
    "print(f\"Length of metadata before filtering: {len(after_download_metadata_df)}\")\n",
    "after_download_metadata_df = after_download_metadata_df[\n",
    "  ~after_download_metadata_df[\"name\"].isin(not_enough_part_book_name)\n",
    "]\n",
    "print(f\"Length of metadata after filtering: {len(after_download_metadata_df)}\")\n",
    "\n",
    "after_download_metadata_df.to_csv(\n",
    "  \"../data/metadata/after_download_metadata.csv\", index=False\n",
    ")"
   ]
  },
  {
   "cell_type": "markdown",
   "id": "a681ddbd",
   "metadata": {},
   "source": [
    "## Analysis of results:\n"
   ]
  },
  {
   "cell_type": "code",
   "execution_count": 31,
   "id": "2cd0ae76",
   "metadata": {},
   "outputs": [],
   "source": [
    "import matplotlib.pyplot as plt\n",
    "import seaborn as sns"
   ]
  },
  {
   "cell_type": "code",
   "execution_count": 32,
   "id": "982fc110",
   "metadata": {},
   "outputs": [
    {
     "data": {
      "image/png": "[encoded data removed]",
      "text/plain": [
       "<Figure size 640x480 with 1 Axes>"
      ]
     },
     "metadata": {},
     "output_type": "display_data"
    }
   ],
   "source": [
    "# The histogram of audio file counts per book\n",
    "audio_counts = after_download_metadata_df[\"audio_download_url\"].apply(\n",
    "  lambda x: len(ast.literal_eval(x))\n",
    ")\n",
    "sns.histplot(audio_counts, bins=50, edgecolor=\"black\")\n",
    "plt.xlabel(\"Number of Audio Files\")\n",
    "plt.ylabel(\"Number of Books\")\n",
    "plt.title(\"Distribution of Audio File Counts\")\n",
    "plt.show()"
   ]
  },
  {
   "cell_type": "code",
   "execution_count": 33,
   "id": "079a0045",
   "metadata": {},
   "outputs": [
    {
     "data": {
      "image/png": "[encoded data removed]",
      "text/plain": [
       "<Figure size 640x480 with 1 Axes>"
      ]
     },
     "metadata": {},
     "output_type": "display_data"
    }
   ],
   "source": [
    "# The histogram of text file sizes\n",
    "text_sizes = after_download_metadata_df[\"text_size\"]\n",
    "sns.histplot(text_sizes, edgecolor=\"black\")\n",
    "plt.xlabel(\"Text File Size (bytes)\")\n",
    "plt.ylabel(\"Number of Books\")\n",
    "plt.title(\"Distribution of Text File Sizes\")\n",
    "plt.show()"
   ]
  },
  {
   "cell_type": "code",
   "execution_count": 34,
   "id": "286cd82f",
   "metadata": {},
   "outputs": [
    {
     "data": {
      "text/plain": [
       "id                                                             34e830b3\n",
       "name                      henry-ford-va-ford-dat-the-gioi-len-4-banh-xe\n",
       "text_path             ../data/text/pdf/henry-ford-va-ford-dat-the-gi...\n",
       "audio_path            ../data/audio/raw/henry-ford-va-ford-dat-the-g...\n",
       "narrator              {'id': 'ea7c41a5', 'name': 'Thùy Duyên', 'dial...\n",
       "duration                                                         6.9192\n",
       "author                                                     Lê Minh Toàn\n",
       "text_url              ['https://thuviensachpdf.com/henry-ford-va-for...\n",
       "audio_url             https://sachnoiviet.net/sach-noi/henry-ford-va...\n",
       "alignment_path                                                      nan\n",
       "text_download_url     https://cloud.thuviensachpdf.com/pdf/vi/henry-...\n",
       "audio_download_url    ['https://archive.org/download/henry-ford-va-f...\n",
       "sample_rate                                                         NaN\n",
       "quality                                                             NaN\n",
       "word_count                                                          NaN\n",
       "num_sentences                                                       NaN\n",
       "audio_size                                                    381148331\n",
       "text_size                                                       1353604\n",
       "Name: 119, dtype: object"
      ]
     },
     "execution_count": 34,
     "metadata": {},
     "output_type": "execute_result"
    }
   ],
   "source": [
    "after_download_metadata_df.iloc[text_sizes.idxmax()]"
   ]
  },
  {
   "cell_type": "code",
   "execution_count": 35,
   "id": "f497f111",
   "metadata": {},
   "outputs": [
    {
     "data": {
      "image/png": "[encoded data removed]",
      "text/plain": [
       "<Figure size 640x480 with 1 Axes>"
      ]
     },
     "metadata": {},
     "output_type": "display_data"
    }
   ],
   "source": [
    "# The histogram of audio directory sizes\n",
    "audio_sizes = after_download_metadata_df[\"audio_size\"]\n",
    "sns.histplot(audio_sizes, edgecolor=\"black\")\n",
    "plt.xlabel(\"Audio Directory Size (bytes)\")\n",
    "plt.ylabel(\"Number of Books\")\n",
    "plt.title(\"Distribution of Audio Directory Sizes\")\n",
    "plt.show()"
   ]
  },
  {
   "cell_type": "code",
   "execution_count": 36,
   "id": "a6d73cb1",
   "metadata": {},
   "outputs": [
    {
     "data": {
      "text/plain": [
       "id                                                             8ea24379\n",
       "name                                       dung-hoang-tuong-ve-bien-lon\n",
       "text_path             ../data/text/pdf/dung-hoang-tuong-ve-bien-lon.pdf\n",
       "audio_path               ../data/audio/raw/dung-hoang-tuong-ve-bien-lon\n",
       "narrator              {'id': '25e5d1f5', 'name': 'Thùy Châu', 'diale...\n",
       "duration                                                         5.0392\n",
       "author                                                        Alan Phan\n",
       "text_url              ['https://thuviensachpdf.com/dung-hoang-tuong-...\n",
       "audio_url             https://sachnoiviet.net/sach-noi/dung-hoang-tu...\n",
       "alignment_path                                                      nan\n",
       "text_download_url     https://cloud.thuviensachpdf.com/pdf/vi/dung-h...\n",
       "audio_download_url    ['https://archive.org/download/dung-hoang-tuon...\n",
       "sample_rate                                                         NaN\n",
       "quality                                                             NaN\n",
       "word_count                                                          NaN\n",
       "num_sentences                                                       NaN\n",
       "audio_size                                                    311150208\n",
       "text_size                                                        896553\n",
       "Name: 104, dtype: object"
      ]
     },
     "execution_count": 36,
     "metadata": {},
     "output_type": "execute_result"
    }
   ],
   "source": [
    "after_download_metadata_df.iloc[\n",
    "  audio_sizes.idxmax()\n",
    "]  # The book with the largest audio directory size is the book having the largest duration"
   ]
  },
  {
   "cell_type": "code",
   "execution_count": 37,
   "id": "c8cdaf85",
   "metadata": {},
   "outputs": [
    {
     "data": {
      "image/png": "[encoded data removed]",
      "text/plain": [
       "<Figure size 640x480 with 1 Axes>"
      ]
     },
     "metadata": {},
     "output_type": "display_data"
    }
   ],
   "source": [
    "# The histogram of duration\n",
    "duration = after_download_metadata_df[\"duration\"]\n",
    "sns.histplot(duration, edgecolor=\"black\")\n",
    "plt.xlabel(\"Duration (seconds)\")\n",
    "plt.ylabel(\"Number of Books\")\n",
    "plt.title(\"Distribution of Duration\")\n",
    "plt.show()"
   ]
  },
  {
   "cell_type": "code",
   "execution_count": 38,
   "id": "0bcb78ac",
   "metadata": {},
   "outputs": [
    {
     "data": {
      "text/plain": [
       "count    268.000000\n",
       "mean       5.268838\n",
       "std        2.145490\n",
       "min        0.379200\n",
       "25%        3.631525\n",
       "50%        5.212200\n",
       "75%        6.986650\n",
       "max        9.898100\n",
       "Name: duration, dtype: float64"
      ]
     },
     "execution_count": 38,
     "metadata": {},
     "output_type": "execute_result"
    }
   ],
   "source": [
    "duration.describe()"
   ]
  },
  {
   "cell_type": "code",
   "execution_count": 39,
   "id": "8cf3bf73",
   "metadata": {},
   "outputs": [
    {
     "data": {
      "text/plain": [
       "np.float64(1412.0486)"
      ]
     },
     "execution_count": 39,
     "metadata": {},
     "output_type": "execute_result"
    }
   ],
   "source": [
    "duration.sum()"
   ]
  }
 ],
 "metadata": {
  "kernelspec": {
   "display_name": "tts-data-pipeline",
   "language": "python",
   "name": "python3"
  },
  "language_info": {
   "codemirror_mode": {
    "name": "ipython",
    "version": 3
   },
   "file_extension": ".py",
   "mimetype": "text/x-python",
   "name": "python",
   "nbconvert_exporter": "python",
   "pygments_lexer": "ipython3",
   "version": "3.11.13"
  }
 },
 "nbformat": 4,
 "nbformat_minor": 5
}
