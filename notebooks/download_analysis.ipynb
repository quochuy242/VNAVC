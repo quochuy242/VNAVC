{
 "cells": [
  {
   "cell_type": "markdown",
   "id": "251f3454",
   "metadata": {},
   "source": [
    "📊 Final Results:\n",
    "\n",
    "---\n",
    "\n",
    "📚 Total books processed: 388\n",
    "\n",
    "✅ Successful downloads: 336\n",
    "\n",
    "❌ Failed downloads: 52\n",
    "\n",
    "📈 Success rate: 86.6%\n"
   ]
  },
  {
   "cell_type": "code",
   "execution_count": 1,
   "id": "e9b6acea",
   "metadata": {},
   "outputs": [],
   "source": [
    "from pathlib import Path\n",
    "\n",
    "audio_save_path = Path(\"../data/audio/raw/\")\n",
    "text_save_path = Path(\"../data/text/pdf/\")"
   ]
  },
  {
   "cell_type": "code",
   "execution_count": 2,
   "id": "8c089f39",
   "metadata": {},
   "outputs": [
    {
     "data": {
      "text/plain": [
       "(387,\n",
       " 331,\n",
       " [PosixPath('../data/text/pdf/sach-den-ve-tinh-than-doanh-nhan.pdf'),\n",
       "  PosixPath('../data/text/pdf/ping-hanh-trinh-ra-bien-lon.pdf'),\n",
       "  PosixPath('../data/text/pdf/suc-manh-cua-su-tu-te.pdf'),\n",
       "  PosixPath('../data/text/pdf/chu-be-rac-roi.pdf'),\n",
       "  PosixPath('../data/text/pdf/chiec-la-cuoi-cung.pdf')],\n",
       " [PosixPath('../data/audio/raw/suc-manh-cua-su-khich-le'),\n",
       "  PosixPath('../data/audio/raw/bi-mat-ho-ca-than'),\n",
       "  PosixPath('../data/audio/raw/khuc-nam-ai'),\n",
       "  PosixPath('../data/audio/raw/bi-mat-cua-vua-solomon'),\n",
       "  PosixPath('../data/audio/raw/binh-minh-va-hoang-hon')])"
      ]
     },
     "execution_count": 2,
     "metadata": {},
     "output_type": "execute_result"
    }
   ],
   "source": [
    "audio_dirs = [d for d in audio_save_path.iterdir() if d.is_dir()]\n",
    "text_files = text_save_path.glob(\"**/*.pdf\")\n",
    "\n",
    "text_files = [f for f in text_files if f.is_file()]\n",
    "audio_dirs = [d for d in audio_dirs if d.is_dir()]\n",
    "\n",
    "len(text_files), len(audio_dirs), text_files[:5], audio_dirs[:5]"
   ]
  },
  {
   "cell_type": "code",
   "execution_count": 3,
   "id": "ee7cc44d",
   "metadata": {},
   "outputs": [
    {
     "name": "stdout",
     "output_type": "stream",
     "text": [
      "Directory: ../data/audio/raw, Size: 55436.77 MB\n",
      "Directory: ../data/text/pdf, Size: 638.70 MB\n"
     ]
    },
    {
     "data": {
      "text/plain": [
       "(58129662029, 669720595)"
      ]
     },
     "execution_count": 3,
     "metadata": {},
     "output_type": "execute_result"
    }
   ],
   "source": [
    "def get_dir_size(path: Path, print_size: bool = False) -> int:\n",
    "  size = sum(f.stat().st_size for f in path.rglob(\"*\") if f.is_file())\n",
    "  if print_size:\n",
    "    print(f\"Directory: {path}, Size: {size / (1024 * 1024):.2f} MB\")\n",
    "  return size\n",
    "\n",
    "\n",
    "(\n",
    "  get_dir_size(audio_save_path, print_size=True),\n",
    "  get_dir_size(text_save_path, print_size=True),\n",
    ")"
   ]
  },
  {
   "cell_type": "code",
   "execution_count": 4,
   "id": "53d02d8d",
   "metadata": {},
   "outputs": [
    {
     "name": "stdout",
     "output_type": "stream",
     "text": [
      "Matched pairs: 331\n"
     ]
    }
   ],
   "source": [
    "def matching_audio_text(text_files, audio_dirs, remove_empty_dirs=False):\n",
    "  matched_pairs = []\n",
    "  text_files = sorted(text_files, key=lambda f: f.stem)\n",
    "  audio_dirs = sorted(audio_dirs, key=lambda d: d.stem)\n",
    "\n",
    "  i_text, i_audio = 0, 0\n",
    "  while i_text < len(text_files) and i_audio < len(audio_dirs):\n",
    "    text_file = text_files[i_text]\n",
    "    audio_dir = audio_dirs[i_audio]\n",
    "\n",
    "    if text_file.stem == audio_dir.stem:\n",
    "      if get_dir_size(audio_dir) == 0:\n",
    "        if remove_empty_dirs:\n",
    "          print(f\"Removing empty directory: {audio_dir}\")\n",
    "          # Remove the text file if it matches an empty audio directory\n",
    "          text_file.unlink(missing_ok=True)\n",
    "          audio_dir.rmdir(missing_ok=True)  # Remove the empty audio directory\n",
    "        else:\n",
    "          print(f\"Empty directory found: {audio_dir}, move it to unqualified directory\")\n",
    "          text_file.rename(text_save_path.parent / \"unqualified\" / text_file.name)\n",
    "          audio_dir.rename(audio_save_path.parent / \"unqualified\" / audio_dir.name)\n",
    "      else:\n",
    "        matched_pairs.append((text_file, audio_dir))\n",
    "      i_text += 1\n",
    "      i_audio += 1\n",
    "    elif text_file.stem < audio_dir.stem:\n",
    "      text_file.rename(text_save_path.parent / \"unqualified\" / text_file.name)\n",
    "      i_text += 1\n",
    "    else:\n",
    "      audio_dir.rename(audio_save_path.parent / \"unqualified\" / audio_dir.name)\n",
    "      i_audio += 1\n",
    "\n",
    "  print(f\"Matched pairs: {len(matched_pairs)}\")\n",
    "  return matched_pairs\n",
    "\n",
    "\n",
    "matched_pairs = matching_audio_text(text_files, audio_dirs, remove_empty_dirs=False)"
   ]
  },
  {
   "cell_type": "code",
   "execution_count": 5,
   "id": "79561fd1",
   "metadata": {},
   "outputs": [
    {
     "data": {
      "text/plain": [
       "[(PosixPath('../data/text/pdf/10-bai-hoc-tren-chiec-khan-an.pdf'),\n",
       "  PosixPath('../data/audio/raw/10-bai-hoc-tren-chiec-khan-an')),\n",
       " (PosixPath('../data/text/pdf/10-bi-quyet-thanh-cong-cua-nhung-dien-gia-mc-tai-nang-nhat-the-gioi.pdf'),\n",
       "  PosixPath('../data/audio/raw/10-bi-quyet-thanh-cong-cua-nhung-dien-gia-mc-tai-nang-nhat-the-gioi')),\n",
       " (PosixPath('../data/text/pdf/10-dieu-khac-biet-nhat-giua-ke-giau-va-nguoi-ngheo.pdf'),\n",
       "  PosixPath('../data/audio/raw/10-dieu-khac-biet-nhat-giua-ke-giau-va-nguoi-ngheo')),\n",
       " (PosixPath('../data/text/pdf/10-dieu-tao-nen-so-phan.pdf'),\n",
       "  PosixPath('../data/audio/raw/10-dieu-tao-nen-so-phan')),\n",
       " (PosixPath('../data/text/pdf/10-nghich-ly-cuoc-song.pdf'),\n",
       "  PosixPath('../data/audio/raw/10-nghich-ly-cuoc-song'))]"
      ]
     },
     "execution_count": 5,
     "metadata": {},
     "output_type": "execute_result"
    }
   ],
   "source": [
    "matched_pairs[:5]"
   ]
  },
  {
   "cell_type": "code",
   "execution_count": 6,
   "id": "c9e91e30",
   "metadata": {},
   "outputs": [],
   "source": [
    "import pandas as pd\n",
    "from typing import List, Tuple\n",
    "from pathlib import Path\n",
    "from tts_data_pipeline import Book"
   ]
  },
  {
   "cell_type": "code",
   "execution_count": 7,
   "id": "b98adbab",
   "metadata": {},
   "outputs": [],
   "source": [
    "def update_metadata(\n",
    "  old_df: pd.DataFrame,\n",
    "  matched_pairs: List[Tuple[Path, Path]],\n",
    "  name_new_df: str = \"after_download_metadata\",\n",
    "  save_json: bool = True,\n",
    "  save_csv: bool = True,\n",
    ") -> pd.DataFrame:\n",
    "  \"\"\"\n",
    "  Update metadata for matched text/audio pairs with optimized performance.\n",
    "\n",
    "  Args:\n",
    "      old_df: Original metadata DataFrame\n",
    "      matched_pairs: List of (text_file, audio_dir) tuples\n",
    "      name_new_df: Name for output CSV file\n",
    "      save_json: Whether to save individual JSON files\n",
    "      save_csv: Whether to save consolidated CSV\n",
    "\n",
    "  Returns:\n",
    "      Updated DataFrame with new metadata\n",
    "  \"\"\"\n",
    "  name_to_row = {row[\"name\"]: row for _, row in old_df.iterrows()}\n",
    "  updated_records = []\n",
    "  missing_names = []\n",
    "\n",
    "  # Create output directory if saving JSON files\n",
    "  if save_json:\n",
    "    json_output_dir = Path(\"../data/metadata/book\")\n",
    "    json_output_dir.mkdir(parents=True, exist_ok=True)\n",
    "\n",
    "  for text_file, audio_dir in matched_pairs:\n",
    "    name = text_file.stem\n",
    "\n",
    "    if name not in name_to_row:\n",
    "      missing_names.append(name)\n",
    "      continue\n",
    "\n",
    "    row_dict = name_to_row[name]\n",
    "    book = Book.from_dict(row_dict)\n",
    "\n",
    "    # Update paths and sizes\n",
    "    book.update_paths(\n",
    "      audio_path=audio_dir,\n",
    "      text_path=text_file,\n",
    "    )\n",
    "    book.update_size(\n",
    "      audio_size=get_dir_size(audio_dir),\n",
    "      text_size=text_file.stat().st_size,\n",
    "    )\n",
    "\n",
    "    # Save JSON if requested\n",
    "    if save_json:\n",
    "      json_path = json_output_dir / f\"{name}.json\"\n",
    "      book.save_json(path=json_path)\n",
    "\n",
    "    # Collect record for batch DataFrame creation\n",
    "    updated_records.append(book.to_dict())\n",
    "\n",
    "  # Report missing names at once\n",
    "  if missing_names:\n",
    "    print(\n",
    "      f\"Warning: No metadata found for {len(missing_names)} items: {missing_names[:5]}\"\n",
    "    )\n",
    "    if len(missing_names) > 5:\n",
    "      print(f\"... and {len(missing_names) - 5} more\")\n",
    "\n",
    "  # Create DataFrame in one operation instead of repeated concatenation\n",
    "  new_df = pd.DataFrame(updated_records, columns=old_df.columns)\n",
    "\n",
    "  # Save CSV if requested\n",
    "  if save_csv:\n",
    "    csv_output_dir = Path(\"../data/metadata\")\n",
    "    csv_output_dir.mkdir(parents=True, exist_ok=True)\n",
    "    csv_path = csv_output_dir / f\"{name_new_df}.csv\"\n",
    "    new_df.to_csv(csv_path, index=False)\n",
    "\n",
    "  return new_df"
   ]
  },
  {
   "cell_type": "code",
   "execution_count": 8,
   "id": "ac0c1516",
   "metadata": {},
   "outputs": [],
   "source": [
    "old_metadata_df = pd.read_csv(\"../data/metadata/able_download_metadata_less_5_hour.csv\")\n",
    "# old_metadata_df.head()"
   ]
  },
  {
   "cell_type": "code",
   "execution_count": 9,
   "id": "187936f9",
   "metadata": {},
   "outputs": [
    {
     "data": {
      "text/html": [
       "<div>\n",
       "<style scoped>\n",
       "    .dataframe tbody tr th:only-of-type {\n",
       "        vertical-align: middle;\n",
       "    }\n",
       "\n",
       "    .dataframe tbody tr th {\n",
       "        vertical-align: top;\n",
       "    }\n",
       "\n",
       "    .dataframe thead th {\n",
       "        text-align: right;\n",
       "    }\n",
       "</style>\n",
       "<table border=\"1\" class=\"dataframe\">\n",
       "  <thead>\n",
       "    <tr style=\"text-align: right;\">\n",
       "      <th></th>\n",
       "      <th>id</th>\n",
       "      <th>name</th>\n",
       "      <th>text_path</th>\n",
       "      <th>audio_path</th>\n",
       "      <th>narrator</th>\n",
       "      <th>duration</th>\n",
       "      <th>author</th>\n",
       "      <th>text_url</th>\n",
       "      <th>audio_url</th>\n",
       "      <th>alignment_path</th>\n",
       "      <th>text_download_url</th>\n",
       "      <th>audio_download_url</th>\n",
       "      <th>sample_rate</th>\n",
       "      <th>quality</th>\n",
       "      <th>word_count</th>\n",
       "      <th>num_sentences</th>\n",
       "      <th>audio_size</th>\n",
       "      <th>text_size</th>\n",
       "    </tr>\n",
       "  </thead>\n",
       "  <tbody>\n",
       "    <tr>\n",
       "      <th>0</th>\n",
       "      <td>a00985dd</td>\n",
       "      <td>10-bai-hoc-tren-chiec-khan-an</td>\n",
       "      <td>../data/text/pdf/10-bai-hoc-tren-chiec-khan-an...</td>\n",
       "      <td>../data/audio/raw/10-bai-hoc-tren-chiec-khan-an</td>\n",
       "      <td>{'id': '5af6cbeb', 'name': 'Trần Huỳnh Phương ...</td>\n",
       "      <td>2.5039</td>\n",
       "      <td>Don Failla</td>\n",
       "      <td>['https://thuviensachpdf.com/10-bai-hoc-tren-c...</td>\n",
       "      <td>https://sachnoiviet.net/sach-noi/10-bai-hoc-tr...</td>\n",
       "      <td>NaN</td>\n",
       "      <td>https://cloud.thuviensachpdf.com/pdf/vi/10-bai...</td>\n",
       "      <td>['https://archive.org/download/10-bai-hoc-tren...</td>\n",
       "      <td>NaN</td>\n",
       "      <td>NaN</td>\n",
       "      <td>NaN</td>\n",
       "      <td>NaN</td>\n",
       "      <td>144734808</td>\n",
       "      <td>347556</td>\n",
       "    </tr>\n",
       "    <tr>\n",
       "      <th>1</th>\n",
       "      <td>2c0c221e</td>\n",
       "      <td>10-bi-quyet-thanh-cong-cua-nhung-dien-gia-mc-t...</td>\n",
       "      <td>../data/text/pdf/10-bi-quyet-thanh-cong-cua-nh...</td>\n",
       "      <td>../data/audio/raw/10-bi-quyet-thanh-cong-cua-n...</td>\n",
       "      <td>[{'id': '047c61b1', 'name': 'Ái Hòa', 'dialect...</td>\n",
       "      <td>4.2244</td>\n",
       "      <td>Carmine Gallo</td>\n",
       "      <td>['https://thuviensachpdf.com/10-bi-quyet-thanh...</td>\n",
       "      <td>https://sachnoiviet.net/sach-noi/10-bi-quyet-t...</td>\n",
       "      <td>NaN</td>\n",
       "      <td>https://cloud.thuviensachpdf.com/pdf/vi/10-bi-...</td>\n",
       "      <td>['https://archive.org/download/10-bi-02/10-bi-...</td>\n",
       "      <td>NaN</td>\n",
       "      <td>NaN</td>\n",
       "      <td>NaN</td>\n",
       "      <td>NaN</td>\n",
       "      <td>121662956</td>\n",
       "      <td>1017767</td>\n",
       "    </tr>\n",
       "    <tr>\n",
       "      <th>2</th>\n",
       "      <td>a0c7d3cd</td>\n",
       "      <td>10-dieu-khac-biet-nhat-giua-ke-giau-va-nguoi-n...</td>\n",
       "      <td>../data/text/pdf/10-dieu-khac-biet-nhat-giua-k...</td>\n",
       "      <td>../data/audio/raw/10-dieu-khac-biet-nhat-giua-...</td>\n",
       "      <td>{'id': '134c54b3', 'name': 'Trần Huỳnh Phương ...</td>\n",
       "      <td>2.0014</td>\n",
       "      <td>Keith Cameron Smith</td>\n",
       "      <td>['https://thuviensachpdf.com/10-dieu-khac-biet...</td>\n",
       "      <td>https://sachnoiviet.net/sach-noi/10-dieu-khac-...</td>\n",
       "      <td>NaN</td>\n",
       "      <td>https://cloud.thuviensachpdf.com/pdf/vi/10-die...</td>\n",
       "      <td>['https://archive.org/download/truyenngan_2019...</td>\n",
       "      <td>NaN</td>\n",
       "      <td>NaN</td>\n",
       "      <td>NaN</td>\n",
       "      <td>NaN</td>\n",
       "      <td>57600157</td>\n",
       "      <td>2764042</td>\n",
       "    </tr>\n",
       "    <tr>\n",
       "      <th>3</th>\n",
       "      <td>33797050</td>\n",
       "      <td>10-dieu-tao-nen-so-phan</td>\n",
       "      <td>../data/text/pdf/10-dieu-tao-nen-so-phan.pdf</td>\n",
       "      <td>../data/audio/raw/10-dieu-tao-nen-so-phan</td>\n",
       "      <td>[{'id': '97bdf585', 'name': 'Ái Hòa', 'dialect...</td>\n",
       "      <td>3.7058</td>\n",
       "      <td>Maria Shriver</td>\n",
       "      <td>['https://thuviensachpdf.com/10-dieu-tao-nen-s...</td>\n",
       "      <td>https://sachnoiviet.net/sach-noi/10-dieu-tao-n...</td>\n",
       "      <td>NaN</td>\n",
       "      <td>https://cloud.thuviensachpdf.com/pdf/vi/10-die...</td>\n",
       "      <td>['https://archive.org/download/audiobook-10die...</td>\n",
       "      <td>NaN</td>\n",
       "      <td>NaN</td>\n",
       "      <td>NaN</td>\n",
       "      <td>NaN</td>\n",
       "      <td>98223048</td>\n",
       "      <td>464391</td>\n",
       "    </tr>\n",
       "    <tr>\n",
       "      <th>4</th>\n",
       "      <td>7685d9c3</td>\n",
       "      <td>10-nghich-ly-cuoc-song</td>\n",
       "      <td>../data/text/pdf/10-nghich-ly-cuoc-song.pdf</td>\n",
       "      <td>../data/audio/raw/10-nghich-ly-cuoc-song</td>\n",
       "      <td>[{'id': '2b4c5c3b', 'name': 'Ái Hòa', 'dialect...</td>\n",
       "      <td>3.2611</td>\n",
       "      <td>Kent M. Keith Ph. D.</td>\n",
       "      <td>['https://thuviensachpdf.com/10-nghich-ly-cuoc...</td>\n",
       "      <td>https://sachnoiviet.net/sach-noi/10-nghich-ly-...</td>\n",
       "      <td>NaN</td>\n",
       "      <td>https://cloud.thuviensachpdf.com/pdf/vi/10-ngh...</td>\n",
       "      <td>['https://archive.org/download/truyenngan_2019...</td>\n",
       "      <td>NaN</td>\n",
       "      <td>NaN</td>\n",
       "      <td>NaN</td>\n",
       "      <td>NaN</td>\n",
       "      <td>89579482</td>\n",
       "      <td>308308</td>\n",
       "    </tr>\n",
       "  </tbody>\n",
       "</table>\n",
       "</div>"
      ],
      "text/plain": [
       "         id                                               name  \\\n",
       "0  a00985dd                      10-bai-hoc-tren-chiec-khan-an   \n",
       "1  2c0c221e  10-bi-quyet-thanh-cong-cua-nhung-dien-gia-mc-t...   \n",
       "2  a0c7d3cd  10-dieu-khac-biet-nhat-giua-ke-giau-va-nguoi-n...   \n",
       "3  33797050                            10-dieu-tao-nen-so-phan   \n",
       "4  7685d9c3                             10-nghich-ly-cuoc-song   \n",
       "\n",
       "                                           text_path  \\\n",
       "0  ../data/text/pdf/10-bai-hoc-tren-chiec-khan-an...   \n",
       "1  ../data/text/pdf/10-bi-quyet-thanh-cong-cua-nh...   \n",
       "2  ../data/text/pdf/10-dieu-khac-biet-nhat-giua-k...   \n",
       "3       ../data/text/pdf/10-dieu-tao-nen-so-phan.pdf   \n",
       "4        ../data/text/pdf/10-nghich-ly-cuoc-song.pdf   \n",
       "\n",
       "                                          audio_path  \\\n",
       "0    ../data/audio/raw/10-bai-hoc-tren-chiec-khan-an   \n",
       "1  ../data/audio/raw/10-bi-quyet-thanh-cong-cua-n...   \n",
       "2  ../data/audio/raw/10-dieu-khac-biet-nhat-giua-...   \n",
       "3          ../data/audio/raw/10-dieu-tao-nen-so-phan   \n",
       "4           ../data/audio/raw/10-nghich-ly-cuoc-song   \n",
       "\n",
       "                                            narrator  duration  \\\n",
       "0  {'id': '5af6cbeb', 'name': 'Trần Huỳnh Phương ...    2.5039   \n",
       "1  [{'id': '047c61b1', 'name': 'Ái Hòa', 'dialect...    4.2244   \n",
       "2  {'id': '134c54b3', 'name': 'Trần Huỳnh Phương ...    2.0014   \n",
       "3  [{'id': '97bdf585', 'name': 'Ái Hòa', 'dialect...    3.7058   \n",
       "4  [{'id': '2b4c5c3b', 'name': 'Ái Hòa', 'dialect...    3.2611   \n",
       "\n",
       "                 author                                           text_url  \\\n",
       "0            Don Failla  ['https://thuviensachpdf.com/10-bai-hoc-tren-c...   \n",
       "1         Carmine Gallo  ['https://thuviensachpdf.com/10-bi-quyet-thanh...   \n",
       "2   Keith Cameron Smith  ['https://thuviensachpdf.com/10-dieu-khac-biet...   \n",
       "3         Maria Shriver  ['https://thuviensachpdf.com/10-dieu-tao-nen-s...   \n",
       "4  Kent M. Keith Ph. D.  ['https://thuviensachpdf.com/10-nghich-ly-cuoc...   \n",
       "\n",
       "                                           audio_url  alignment_path  \\\n",
       "0  https://sachnoiviet.net/sach-noi/10-bai-hoc-tr...             NaN   \n",
       "1  https://sachnoiviet.net/sach-noi/10-bi-quyet-t...             NaN   \n",
       "2  https://sachnoiviet.net/sach-noi/10-dieu-khac-...             NaN   \n",
       "3  https://sachnoiviet.net/sach-noi/10-dieu-tao-n...             NaN   \n",
       "4  https://sachnoiviet.net/sach-noi/10-nghich-ly-...             NaN   \n",
       "\n",
       "                                   text_download_url  \\\n",
       "0  https://cloud.thuviensachpdf.com/pdf/vi/10-bai...   \n",
       "1  https://cloud.thuviensachpdf.com/pdf/vi/10-bi-...   \n",
       "2  https://cloud.thuviensachpdf.com/pdf/vi/10-die...   \n",
       "3  https://cloud.thuviensachpdf.com/pdf/vi/10-die...   \n",
       "4  https://cloud.thuviensachpdf.com/pdf/vi/10-ngh...   \n",
       "\n",
       "                                  audio_download_url  sample_rate  quality  \\\n",
       "0  ['https://archive.org/download/10-bai-hoc-tren...          NaN      NaN   \n",
       "1  ['https://archive.org/download/10-bi-02/10-bi-...          NaN      NaN   \n",
       "2  ['https://archive.org/download/truyenngan_2019...          NaN      NaN   \n",
       "3  ['https://archive.org/download/audiobook-10die...          NaN      NaN   \n",
       "4  ['https://archive.org/download/truyenngan_2019...          NaN      NaN   \n",
       "\n",
       "   word_count  num_sentences  audio_size  text_size  \n",
       "0         NaN            NaN   144734808     347556  \n",
       "1         NaN            NaN   121662956    1017767  \n",
       "2         NaN            NaN    57600157    2764042  \n",
       "3         NaN            NaN    98223048     464391  \n",
       "4         NaN            NaN    89579482     308308  "
      ]
     },
     "execution_count": 9,
     "metadata": {},
     "output_type": "execute_result"
    }
   ],
   "source": [
    "after_download_metadata_df = update_metadata(\n",
    "  old_metadata_df, matched_pairs, save_json=False\n",
    ")\n",
    "after_download_metadata_df.head()"
   ]
  },
  {
   "cell_type": "code",
   "execution_count": 10,
   "id": "ca9e6b63",
   "metadata": {},
   "outputs": [
    {
     "name": "stdout",
     "output_type": "stream",
     "text": [
      "Length of metadata before filtering: 331\n",
      "Length of metadata after filtering: 331\n"
     ]
    }
   ],
   "source": [
    "import ast\n",
    "\n",
    "not_enough_part_book_name = []\n",
    "for book in after_download_metadata_df.itertuples():\n",
    "  audio_download_urls = ast.literal_eval(book.audio_download_url)\n",
    "  audio_path = Path(book.audio_path)\n",
    "\n",
    "  if not audio_path.exists():\n",
    "    print(f\"Audio path does not exist: {audio_path}\")\n",
    "\n",
    "  if len(audio_download_urls) != len(list(audio_path.glob(\"*.*\"))):\n",
    "    print(\n",
    "      f\"Mismatch in audio files for {book.name}: {len(audio_download_urls)} URLs vs {len(list(audio_path.glob('*.*')))} files\"\n",
    "    )\n",
    "    not_enough_part_book_name.append(book.name)\n",
    "    audio_path.rename(audio_path.parent.parent / \"unqualified\" / audio_path.name)\n",
    "    book.text_path.rename(\n",
    "      book.text_path.parent.parent / \"unqualified\" / book.text_path.name\n",
    "    )\n",
    "\n",
    "print(f\"Length of metadata before filtering: {len(after_download_metadata_df)}\")\n",
    "after_download_metadata_df = after_download_metadata_df[\n",
    "  ~after_download_metadata_df[\"name\"].isin(not_enough_part_book_name)\n",
    "]\n",
    "print(f\"Length of metadata after filtering: {len(after_download_metadata_df)}\")\n",
    "\n",
    "after_download_metadata_df.to_csv(\n",
    "  \"../data/metadata/after_download_metadata.csv\", index=False\n",
    ")"
   ]
  },
  {
   "cell_type": "markdown",
   "id": "a681ddbd",
   "metadata": {},
   "source": [
    "## Analysis of results:\n"
   ]
  },
  {
   "cell_type": "code",
   "execution_count": 14,
   "id": "2cd0ae76",
   "metadata": {},
   "outputs": [],
   "source": [
    "import matplotlib.pyplot as plt\n",
    "import seaborn as sns"
   ]
  },
  {
   "cell_type": "code",
   "execution_count": null,
   "id": "982fc110",
   "metadata": {},
   "outputs": [
    {
     "data": {
      "image/png": "[encoded data removed]",
      "text/plain": [
       "<Figure size 640x480 with 1 Axes>"
      ]
     },
     "metadata": {},
     "output_type": "display_data"
    }
   ],
   "source": [
    "# The histogram of audio file counts per book\n",
    "audio_counts = after_download_metadata_df[\"audio_download_url\"].apply(\n",
    "  lambda x: len(ast.literal_eval(x))\n",
    ")\n",
    "sns.histplot(audio_counts, bins=50, edgecolor=\"black\")\n",
    "plt.xlabel(\"Number of Audio Files\")\n",
    "plt.ylabel(\"Number of Books\")\n",
    "plt.title(\"Distribution of Audio File Counts\")\n",
    "plt.show()"
   ]
  },
  {
   "cell_type": "code",
   "execution_count": 17,
   "id": "079a0045",
   "metadata": {},
   "outputs": [
    {
     "data": {
      "image/png": "[encoded data removed]",
      "text/plain": [
       "<Figure size 640x480 with 1 Axes>"
      ]
     },
     "metadata": {},
     "output_type": "display_data"
    }
   ],
   "source": [
    "# The histogram of text file sizes\n",
    "text_sizes = after_download_metadata_df[\"text_size\"]\n",
    "sns.histplot(text_sizes, edgecolor=\"black\")\n",
    "plt.xlabel(\"Text File Size (bytes)\")\n",
    "plt.ylabel(\"Number of Books\")\n",
    "plt.title(\"Distribution of Text File Sizes\")\n",
    "plt.show()"
   ]
  },
  {
   "cell_type": "code",
   "execution_count": 23,
   "id": "286cd82f",
   "metadata": {},
   "outputs": [
    {
     "data": {
      "text/plain": [
       "id                                                             ffd019b4\n",
       "name                                                    guong-kien-nhan\n",
       "text_path                          ../data/text/pdf/guong-kien-nhan.pdf\n",
       "audio_path                            ../data/audio/raw/guong-kien-nhan\n",
       "narrator              {'id': '597d03e4', 'name': 'Đỗ Thụy', 'dialect...\n",
       "duration                                                         4.1008\n",
       "author                                                   Nguyễn Hiến Lê\n",
       "text_url              ['https://thuviensachpdf.com/guong-kien-nhan',...\n",
       "audio_url              https://sachnoiviet.net/sach-noi/guong-kien-nhan\n",
       "alignment_path                                                      NaN\n",
       "text_download_url     https://cloud.thuviensachpdf.com/pdf/vi/guong-...\n",
       "audio_download_url    ['https://archive.org/download/guong-6/guong-1...\n",
       "sample_rate                                                         NaN\n",
       "quality                                                             NaN\n",
       "word_count                                                          NaN\n",
       "num_sentences                                                       NaN\n",
       "audio_size                                                     89088401\n",
       "text_size                                                      64197658\n",
       "Name: 153, dtype: object"
      ]
     },
     "execution_count": 23,
     "metadata": {},
     "output_type": "execute_result"
    }
   ],
   "source": [
    "after_download_metadata_df.iloc[text_sizes.idxmax()]"
   ]
  },
  {
   "cell_type": "code",
   "execution_count": 21,
   "id": "f497f111",
   "metadata": {},
   "outputs": [
    {
     "data": {
      "image/png": "[encoded data removed]",
      "text/plain": [
       "<Figure size 640x480 with 1 Axes>"
      ]
     },
     "metadata": {},
     "output_type": "display_data"
    }
   ],
   "source": [
    "# The histogram of audio directory sizes\n",
    "audio_sizes = after_download_metadata_df[\"audio_size\"]\n",
    "sns.histplot(audio_sizes, edgecolor=\"black\")\n",
    "plt.xlabel(\"Audio Directory Size (bytes)\")\n",
    "plt.ylabel(\"Number of Books\")\n",
    "plt.title(\"Distribution of Audio Directory Sizes\")\n",
    "plt.show()"
   ]
  },
  {
   "cell_type": "code",
   "execution_count": null,
   "id": "a6d73cb1",
   "metadata": {},
   "outputs": [
    {
     "data": {
      "text/plain": [
       "id                                                             54717df0\n",
       "name                                               cay-cam-ngot-cua-toi\n",
       "text_path                     ../data/text/pdf/cay-cam-ngot-cua-toi.pdf\n",
       "audio_path                       ../data/audio/raw/cay-cam-ngot-cua-toi\n",
       "narrator              {'id': 'a304e68f', 'name': 'Phát Thanh Sóc Tră...\n",
       "duration                                                         4.9997\n",
       "author                                                       José Mauro\n",
       "text_url              ['https://thuviensachpdf.com/cay-cam-ngot-cua-...\n",
       "audio_url             https://sachnoiviet.net/sach-noi/cay-cam-ngot-...\n",
       "alignment_path                                                      NaN\n",
       "text_download_url     https://cloud.thuviensachpdf.com/pdf/vi/cay-ca...\n",
       "audio_download_url    ['https://archive.org/download/cay-cam-06/cay-...\n",
       "sample_rate                                                         NaN\n",
       "quality                                                             NaN\n",
       "word_count                                                          NaN\n",
       "num_sentences                                                       NaN\n",
       "audio_size                                                    719500908\n",
       "text_size                                                        907523\n",
       "Name: 70, dtype: object"
      ]
     },
     "execution_count": 22,
     "metadata": {},
     "output_type": "execute_result"
    }
   ],
   "source": [
    "after_download_metadata_df.iloc[\n",
    "  audio_sizes.idxmax()\n",
    "]  # The book with the largest audio directory size is the book having the largest duration"
   ]
  },
  {
   "cell_type": "code",
   "execution_count": null,
   "id": "c8cdaf85",
   "metadata": {},
   "outputs": [
    {
     "data": {
      "image/png": "[encoded data removed]",
      "text/plain": [
       "<Figure size 640x480 with 1 Axes>"
      ]
     },
     "metadata": {},
     "output_type": "display_data"
    }
   ],
   "source": [
    "# The histogram of duration\n",
    "duration = after_download_metadata_df[\"duration\"]\n",
    "sns.histplot(duration, edgecolor=\"black\")\n",
    "plt.xlabel(\"Duration (seconds)\")\n",
    "plt.ylabel(\"Number of Books\") \n",
    "plt.title(\"Distribution of Duration\")\n",
    "plt.show()"
   ]
  },
  {
   "cell_type": "code",
   "execution_count": 25,
   "id": "0bcb78ac",
   "metadata": {},
   "outputs": [
    {
     "data": {
      "text/plain": [
       "count    331.000000\n",
       "mean       3.258792\n",
       "std        1.078212\n",
       "min        0.379200\n",
       "25%        2.438900\n",
       "50%        3.355000\n",
       "75%        4.185800\n",
       "max        4.999700\n",
       "Name: duration, dtype: float64"
      ]
     },
     "execution_count": 25,
     "metadata": {},
     "output_type": "execute_result"
    }
   ],
   "source": [
    "duration.describe()"
   ]
  },
  {
   "cell_type": "code",
   "execution_count": 27,
   "id": "8cf3bf73",
   "metadata": {},
   "outputs": [
    {
     "data": {
      "text/plain": [
       "1078.6601"
      ]
     },
     "execution_count": 27,
     "metadata": {},
     "output_type": "execute_result"
    }
   ],
   "source": [
    "duration.sum()"
   ]
  }
 ],
 "metadata": {
  "kernelspec": {
   "display_name": "tts-data-pipeline (3.11.11)",
   "language": "python",
   "name": "python3"
  },
  "language_info": {
   "codemirror_mode": {
    "name": "ipython",
    "version": 3
   },
   "file_extension": ".py",
   "mimetype": "text/x-python",
   "name": "python",
   "nbconvert_exporter": "python",
   "pygments_lexer": "ipython3",
   "version": "3.11.11"
  }
 },
 "nbformat": 4,
 "nbformat_minor": 5
}
