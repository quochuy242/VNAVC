{
 "cells": [
  {
   "cell_type": "markdown",
   "id": "f89a3416",
   "metadata": {},
   "source": [
    "# Finetune Spark-TTS for VNAVC dataset"
   ]
  },
  {
   "cell_type": "markdown",
   "id": "63d06dbe",
   "metadata": {},
   "source": [
    "## Download VNAVC dataset and prepare prompts"
   ]
  },
  {
   "cell_type": "code",
   "execution_count": null,
   "id": "617e52c6",
   "metadata": {},
   "outputs": [],
   "source": [
    "!git clone https://github.com/quochuy242/VNAVC.git"
   ]
  },
  {
   "cell_type": "code",
   "execution_count": null,
   "id": "49af28bd",
   "metadata": {},
   "outputs": [],
   "source": [
    "%cd VNAVC/finetune/spark_tts"
   ]
  },
  {
   "cell_type": "code",
   "execution_count": null,
   "id": "7b1bfd25",
   "metadata": {},
   "outputs": [],
   "source": [
    "!python -m script.prepare_prompt_for_vnavc --push_prompt_to_hub --dataset_id qhuy242/VNANC_prompt"
   ]
  },
  {
   "cell_type": "markdown",
   "id": "f0c0fb2f",
   "metadata": {},
   "source": [
    "## Setup Vi-SparkTTS-0.5B finetuning"
   ]
  },
  {
   "cell_type": "code",
   "execution_count": null,
   "id": "dd137bd8",
   "metadata": {},
   "outputs": [],
   "source": [
    "%pip install -U packaging setuptools wheel ninja\n",
    "%pip install --no-build-isolation axolotl[flash-attn,deepspeed]\n",
    "%pip install -r requirements.txt\n",
    "\n",
    "!python -m script.download_pretrain"
   ]
  },
  {
   "cell_type": "markdown",
   "id": "40223388",
   "metadata": {},
   "source": [
    "## Training"
   ]
  },
  {
   "cell_type": "code",
   "execution_count": null,
   "id": "b583222c",
   "metadata": {},
   "outputs": [],
   "source": []
  }
 ],
 "metadata": {
  "kernelspec": {
   "display_name": "VNAVC (3.11.11)",
   "language": "python",
   "name": "python3"
  },
  "language_info": {
   "name": "python",
   "version": "3.11.11"
  }
 },
 "nbformat": 4,
 "nbformat_minor": 5
}
